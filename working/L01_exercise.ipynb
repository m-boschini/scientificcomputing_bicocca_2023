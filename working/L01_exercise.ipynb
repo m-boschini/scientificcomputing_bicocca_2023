{
 "cells": [
  {
   "cell_type": "markdown",
   "id": "b19ac895-97fc-4856-adc9-5f6cb98f2937",
   "metadata": {
    "jp-MarkdownHeadingCollapsed": true
   },
   "source": [
    "## Q1: Machine precision\n",
    "\n",
    "When talking about floating point, we discussed _machine epsilon_, $\\epsilon$&mdash;this is the smallest number that when added to 1 is still different from 1.\n",
    "\n",
    "We'll compute $\\epsilon$ here:\n",
    "\n",
    "  * Pick an initial guess for $\\epsilon$ of `eps = 1`.  \n",
    "\n",
    "  * Create a loop that checks whether `1 + eps` is different from `1`\n",
    "  \n",
    "  * Each loop iteration, cut the value of `eps` in half\n",
    "  \n",
    "What value of $\\epsilon$ do you find?"
   ]
  },
  {
   "cell_type": "code",
   "execution_count": 18,
   "id": "3cb4a58e-492a-4abd-abc1-4e1069623d5a",
   "metadata": {},
   "outputs": [
    {
     "name": "stdout",
     "output_type": "stream",
     "text": [
      "1.1102230246251565e-16\n"
     ]
    }
   ],
   "source": [
    "eps = 1\n",
    "while True:\n",
    "    if 1 == 1+eps:\n",
    "        print(eps)\n",
    "        break\n",
    "    else:\n",
    "        eps = eps/2"
   ]
  },
  {
   "cell_type": "markdown",
   "id": "85bed53d-b88f-4282-aa94-d8d47308ebe9",
   "metadata": {
    "jp-MarkdownHeadingCollapsed": true
   },
   "source": [
    "## Q2: Iterations\n",
    "\n",
    "### Part 1\n",
    "\n",
    "To iterate over the tuples, where the _i_-th tuple contains the _i_-th elements of certain sequences, we can use `zip(*sequences)` function.\n",
    "\n",
    "We will iterate over two lists, `names` and `age`, and print out the resulting tuples.\n",
    "\n",
    "  * Start by initializing lists `names = [\"Mary\", \"John\", \"Sarah\"]` and `age = [21, 56, 98]`.\n",
    "  \n",
    "  * Iterate over the tuples containing a name and an age, the `zip(list1, list2)` function might be useful here.\n",
    "  \n",
    "  * Print out formatted strings of the type \"*NAME is AGE years old*\".\n",
    "  \n",
    "\n",
    "### Part 2\n",
    "\n",
    "The function `enumerate(sequence)` returns tuples containing indices of objects in the sequence, and the objects. \n",
    "\n",
    "The `random` module provides tools for working with the random numbers. In particular, `random.randint(start, end)` generates a random number not smaller than `start`, and not bigger than `end`.\n",
    "\n",
    "  * Generate a list of 10 random numbers from 0 to 9.\n",
    "  \n",
    "  * Using the `enumerate(random_list)` function, iterate over the tuples of random numbers and their indices, and print out *\"Match: NUMBER and INDEX\"* if the random number and its index in the list match."
   ]
  },
  {
   "cell_type": "code",
   "execution_count": 19,
   "id": "78790433-0479-4cec-9ed1-62e12dd44fe7",
   "metadata": {},
   "outputs": [
    {
     "name": "stdout",
     "output_type": "stream",
     "text": [
      "Mary is 21 years old\n",
      "John is 56 years old\n",
      "Sarah is 98 years old\n"
     ]
    }
   ],
   "source": [
    "names = ['Mary', 'John', 'Sarah']\n",
    "age = [21, 56, 98]\n",
    "\n",
    "for n,y in zip(names, age):\n",
    "    print(f'{n} is {y} years old')"
   ]
  },
  {
   "cell_type": "code",
   "execution_count": 29,
   "id": "2fb989c1-0175-4f74-9298-92923c03f283",
   "metadata": {},
   "outputs": [
    {
     "name": "stdout",
     "output_type": "stream",
     "text": [
      "Match: 3 and 3\n"
     ]
    }
   ],
   "source": [
    "import random\n",
    "\n",
    "ints = [random.randint(a=0, b=9) for i in range(10)]\n",
    "for i,n in enumerate(ints):\n",
    "    if i == n:\n",
    "        print(f'Match: {n} and {i}')"
   ]
  },
  {
   "cell_type": "markdown",
   "id": "040bc521-5f82-4b9b-85c8-0aa0a47b3750",
   "metadata": {
    "jp-MarkdownHeadingCollapsed": true
   },
   "source": [
    "## Q3: Books\n",
    "\n",
    "Here is a list of book titles (from http://thegreatestbooks.org).  Loop through the list and capitalize each word in each title. "
   ]
  },
  {
   "cell_type": "code",
   "execution_count": 3,
   "id": "fecdfe88-5f00-476e-bb33-c16cb070d3a0",
   "metadata": {},
   "outputs": [
    {
     "name": "stdout",
     "output_type": "stream",
     "text": [
      "['Don Quixote', 'In Search Of Lost Time', 'Ulysses', 'The Odyssey', 'War And Piece', 'Moby Dick', 'The Divine Comedy', 'Hamlet', 'The Adventures Of Huckleberry Finn', 'The Great Gatsby']\n"
     ]
    }
   ],
   "source": [
    "titles = [\"don quixote\", \n",
    "          \"in search of lost time\", \n",
    "          \"ulysses\", \n",
    "          \"the odyssey\", \n",
    "          \"war and piece\", \n",
    "          \"moby dick\", \n",
    "          \"the divine comedy\", \n",
    "          \"hamlet\", \n",
    "          \"the adventures of huckleberry finn\", \n",
    "          \"the great gatsby\"]\n",
    "Titles = []\n",
    "for el in titles:\n",
    "    Titles += [el.title()]\n",
    "print(Titles)"
   ]
  },
  {
   "cell_type": "markdown",
   "id": "347a106d-93ce-4249-a91d-0ab16629e92d",
   "metadata": {},
   "source": [
    "## Q4: Word counts\n",
    "\n",
    "Here's some text (the Gettysburg Address).  Our goal is to count how many times each word repeats.  We'll do a brute force method first, and then we'll look a ways to do it more efficiently (and compactly)."
   ]
  },
  {
   "cell_type": "code",
   "execution_count": 4,
   "id": "4c3e394a-7450-4f51-8a10-652bde1df059",
   "metadata": {},
   "outputs": [],
   "source": [
    "gettysburg_address = \"\"\"\n",
    "Four score and seven years ago our fathers brought forth on this continent, \n",
    "a new nation, conceived in Liberty, and dedicated to the proposition that \n",
    "all men are created equal.\n",
    "\n",
    "Now we are engaged in a great civil war, testing whether that nation, or \n",
    "any nation so conceived and so dedicated, can long endure. We are met on\n",
    "a great battle-field of that war. We have come to dedicate a portion of\n",
    "that field, as a final resting place for those who here gave their lives\n",
    "that that nation might live. It is altogether fitting and proper that we\n",
    "should do this.\n",
    "\n",
    "But, in a larger sense, we can not dedicate -- we can not consecrate -- we\n",
    "can not hallow -- this ground. The brave men, living and dead, who struggled\n",
    "here, have consecrated it, far above our poor power to add or detract.  The\n",
    "world will little note, nor long remember what we say here, but it can never\n",
    "forget what they did here. It is for us the living, rather, to be dedicated\n",
    "here to the unfinished work which they who fought here have thus far so nobly\n",
    "advanced. It is rather for us to be here dedicated to the great task remaining\n",
    "before us -- that from these honored dead we take increased devotion to that\n",
    "cause for which they gave the last full measure of devotion -- that we here\n",
    "highly resolve that these dead shall not have died in vain -- that this\n",
    "nation, under God, shall have a new birth of freedom -- and that government\n",
    "of the people, by the people, for the people, shall not perish from the earth.\n",
    "\"\"\""
   ]
  },
  {
   "cell_type": "code",
   "execution_count": 7,
   "id": "f8c6cfde-9843-4ab5-97ba-a66ca46a3be9",
   "metadata": {},
   "outputs": [],
   "source": [
    "unique_words = {s.lower() for s in gettysburg_address.split() if s.isalpha()}\n",
    "words_counter = {s:gettysburg_address.count(s) for s in unique_words}\n",
    "words_"
   ]
  },
  {
   "cell_type": "code",
   "execution_count": 10,
   "id": "6e1fafa8-86b3-4e98-90e0-e4284e4f0274",
   "metadata": {},
   "outputs": [
    {
     "data": {
      "text/plain": [
       "{'a',\n",
       " 'above',\n",
       " 'add',\n",
       " 'ago',\n",
       " 'all',\n",
       " 'altogether',\n",
       " 'and',\n",
       " 'any',\n",
       " 'are',\n",
       " 'as',\n",
       " 'be',\n",
       " 'before',\n",
       " 'birth',\n",
       " 'brave',\n",
       " 'brought',\n",
       " 'but',\n",
       " 'by',\n",
       " 'can',\n",
       " 'cause',\n",
       " 'civil',\n",
       " 'come',\n",
       " 'conceived',\n",
       " 'consecrate',\n",
       " 'consecrated',\n",
       " 'created',\n",
       " 'dead',\n",
       " 'dedicate',\n",
       " 'dedicated',\n",
       " 'devotion',\n",
       " 'did',\n",
       " 'died',\n",
       " 'do',\n",
       " 'engaged',\n",
       " 'far',\n",
       " 'fathers',\n",
       " 'final',\n",
       " 'fitting',\n",
       " 'for',\n",
       " 'forget',\n",
       " 'forth',\n",
       " 'fought',\n",
       " 'four',\n",
       " 'freedom',\n",
       " 'from',\n",
       " 'full',\n",
       " 'gave',\n",
       " 'government',\n",
       " 'great',\n",
       " 'hallow',\n",
       " 'have',\n",
       " 'here',\n",
       " 'highly',\n",
       " 'honored',\n",
       " 'in',\n",
       " 'increased',\n",
       " 'is',\n",
       " 'it',\n",
       " 'larger',\n",
       " 'last',\n",
       " 'little',\n",
       " 'lives',\n",
       " 'living',\n",
       " 'long',\n",
       " 'measure',\n",
       " 'men',\n",
       " 'met',\n",
       " 'might',\n",
       " 'nation',\n",
       " 'never',\n",
       " 'new',\n",
       " 'nobly',\n",
       " 'nor',\n",
       " 'not',\n",
       " 'now',\n",
       " 'of',\n",
       " 'on',\n",
       " 'or',\n",
       " 'our',\n",
       " 'perish',\n",
       " 'place',\n",
       " 'poor',\n",
       " 'portion',\n",
       " 'power',\n",
       " 'proper',\n",
       " 'proposition',\n",
       " 'rather',\n",
       " 'remaining',\n",
       " 'remember',\n",
       " 'resolve',\n",
       " 'resting',\n",
       " 'say',\n",
       " 'score',\n",
       " 'seven',\n",
       " 'shall',\n",
       " 'should',\n",
       " 'so',\n",
       " 'struggled',\n",
       " 'take',\n",
       " 'task',\n",
       " 'testing',\n",
       " 'that',\n",
       " 'the',\n",
       " 'their',\n",
       " 'these',\n",
       " 'they',\n",
       " 'this',\n",
       " 'those',\n",
       " 'thus',\n",
       " 'to',\n",
       " 'under',\n",
       " 'unfinished',\n",
       " 'us',\n",
       " 'vain',\n",
       " 'we',\n",
       " 'what',\n",
       " 'whether',\n",
       " 'which',\n",
       " 'who',\n",
       " 'will',\n",
       " 'work',\n",
       " 'world',\n",
       " 'years'}"
      ]
     },
     "execution_count": 10,
     "metadata": {},
     "output_type": "execute_result"
    }
   ],
   "source": [
    "unique_words"
   ]
  },
  {
   "cell_type": "code",
   "execution_count": null,
   "id": "bf395de2-0ac6-407d-9946-1b9e4f2970bd",
   "metadata": {},
   "outputs": [],
   "source": []
  }
 ],
 "metadata": {
  "kernelspec": {
   "display_name": "Python 3 (ipykernel)",
   "language": "python",
   "name": "python3"
  },
  "language_info": {
   "codemirror_mode": {
    "name": "ipython",
    "version": 3
   },
   "file_extension": ".py",
   "mimetype": "text/x-python",
   "name": "python",
   "nbconvert_exporter": "python",
   "pygments_lexer": "ipython3",
   "version": "3.9.16"
  }
 },
 "nbformat": 4,
 "nbformat_minor": 5
}
