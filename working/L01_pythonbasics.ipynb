{
 "cells": [
  {
   "cell_type": "markdown",
   "id": "3ffdff67-82d2-4a37-9a6f-fde6820604e0",
   "metadata": {
    "jp-MarkdownHeadingCollapsed": true
   },
   "source": [
    "## Q1: Machine precision"
   ]
  },
  {
   "cell_type": "markdown",
   "id": "b19ac895-97fc-4856-adc9-5f6cb98f2937",
   "metadata": {},
   "source": [
    "When talking about floating point, we discussed _machine epsilon_, $\\epsilon$&mdash;this is the smallest number that when added to 1 is still different from 1.\n",
    "\n",
    "We'll compute $\\epsilon$ here:\n",
    "\n",
    "  * Pick an initial guess for $\\epsilon$ of `eps = 1`.  \n",
    "\n",
    "  * Create a loop that checks whether `1 + eps` is different from `1`\n",
    "  \n",
    "  * Each loop iteration, cut the value of `eps` in half\n",
    "  \n",
    "What value of $\\epsilon$ do you find?"
   ]
  },
  {
   "cell_type": "code",
   "execution_count": 1,
   "id": "3cb4a58e-492a-4abd-abc1-4e1069623d5a",
   "metadata": {},
   "outputs": [
    {
     "name": "stdout",
     "output_type": "stream",
     "text": [
      "1.1102230246251565e-16\n"
     ]
    }
   ],
   "source": [
    "eps = 1\n",
    "while True:\n",
    "    if 1 == 1+eps:\n",
    "        print(eps)\n",
    "        break\n",
    "    else:\n",
    "        eps = eps/2"
   ]
  },
  {
   "cell_type": "markdown",
   "id": "dd01f264-c84f-4405-8670-a6f266b2c245",
   "metadata": {
    "jp-MarkdownHeadingCollapsed": true
   },
   "source": [
    "## Q2: Iterations"
   ]
  },
  {
   "cell_type": "markdown",
   "id": "85bed53d-b88f-4282-aa94-d8d47308ebe9",
   "metadata": {},
   "source": [
    "### Part 1\n",
    "\n",
    "To iterate over the tuples, where the _i_-th tuple contains the _i_-th elements of certain sequences, we can use `zip(*sequences)` function.\n",
    "\n",
    "We will iterate over two lists, `names` and `age`, and print out the resulting tuples.\n",
    "\n",
    "  * Start by initializing lists `names = [\"Mary\", \"John\", \"Sarah\"]` and `age = [21, 56, 98]`.\n",
    "  \n",
    "  * Iterate over the tuples containing a name and an age, the `zip(list1, list2)` function might be useful here.\n",
    "  \n",
    "  * Print out formatted strings of the type \"*NAME is AGE years old*\".\n",
    "  \n",
    "\n",
    "### Part 2\n",
    "\n",
    "The function `enumerate(sequence)` returns tuples containing indices of objects in the sequence, and the objects. \n",
    "\n",
    "The `random` module provides tools for working with the random numbers. In particular, `random.randint(start, end)` generates a random number not smaller than `start`, and not bigger than `end`.\n",
    "\n",
    "  * Generate a list of 10 random numbers from 0 to 9.\n",
    "  \n",
    "  * Using the `enumerate(random_list)` function, iterate over the tuples of random numbers and their indices, and print out *\"Match: NUMBER and INDEX\"* if the random number and its index in the list match."
   ]
  },
  {
   "cell_type": "code",
   "execution_count": 2,
   "id": "78790433-0479-4cec-9ed1-62e12dd44fe7",
   "metadata": {},
   "outputs": [
    {
     "name": "stdout",
     "output_type": "stream",
     "text": [
      "Mary is 21 years old\n",
      "John is 56 years old\n",
      "Sarah is 98 years old\n"
     ]
    }
   ],
   "source": [
    "names = ['Mary', 'John', 'Sarah']\n",
    "age = [21, 56, 98]\n",
    "\n",
    "for n,y in zip(names, age):\n",
    "    print(f'{n} is {y} years old')"
   ]
  },
  {
   "cell_type": "code",
   "execution_count": 3,
   "id": "2fb989c1-0175-4f74-9298-92923c03f283",
   "metadata": {},
   "outputs": [],
   "source": [
    "import random\n",
    "\n",
    "ints = [random.randint(a=0, b=9) for i in range(10)]\n",
    "for i,n in enumerate(ints):\n",
    "    if i == n:\n",
    "        print(f'Match: {n} and {i}')"
   ]
  },
  {
   "cell_type": "markdown",
   "id": "778d9929-324a-40da-b8fa-60792872a34b",
   "metadata": {
    "jp-MarkdownHeadingCollapsed": true
   },
   "source": [
    "## Q3: Books"
   ]
  },
  {
   "cell_type": "markdown",
   "id": "040bc521-5f82-4b9b-85c8-0aa0a47b3750",
   "metadata": {},
   "source": [
    "Here is a list of book titles (from http://thegreatestbooks.org).  Loop through the list and capitalize each word in each title. "
   ]
  },
  {
   "cell_type": "code",
   "execution_count": 4,
   "id": "fecdfe88-5f00-476e-bb33-c16cb070d3a0",
   "metadata": {},
   "outputs": [
    {
     "name": "stdout",
     "output_type": "stream",
     "text": [
      "['Don Quixote', 'In Search Of Lost Time', 'Ulysses', 'The Odyssey', 'War And Piece', 'Moby Dick', 'The Divine Comedy', 'Hamlet', 'The Adventures Of Huckleberry Finn', 'The Great Gatsby']\n"
     ]
    }
   ],
   "source": [
    "titles = [\"don quixote\", \n",
    "          \"in search of lost time\", \n",
    "          \"ulysses\", \n",
    "          \"the odyssey\", \n",
    "          \"war and piece\", \n",
    "          \"moby dick\", \n",
    "          \"the divine comedy\", \n",
    "          \"hamlet\", \n",
    "          \"the adventures of huckleberry finn\", \n",
    "          \"the great gatsby\"]\n",
    "Titles = []\n",
    "for el in titles:\n",
    "    Titles += [el.title()]\n",
    "print(Titles)"
   ]
  },
  {
   "cell_type": "markdown",
   "id": "e24eec37-abb7-4fd4-b7e4-af1011a46120",
   "metadata": {
    "jp-MarkdownHeadingCollapsed": true
   },
   "source": [
    "## Q4: Word counts"
   ]
  },
  {
   "cell_type": "markdown",
   "id": "347a106d-93ce-4249-a91d-0ab16629e92d",
   "metadata": {
    "jp-MarkdownHeadingCollapsed": true
   },
   "source": [
    "Here's some text (the Gettysburg Address).  Our goal is to count how many times each word repeats.  We'll do a brute force method first, and then we'll look a ways to do it more efficiently (and compactly)."
   ]
  },
  {
   "cell_type": "code",
   "execution_count": 5,
   "id": "4c3e394a-7450-4f51-8a10-652bde1df059",
   "metadata": {},
   "outputs": [],
   "source": [
    "gettysburg_address = \"\"\"\n",
    "Four score and seven years ago our fathers brought forth on this continent, \n",
    "a new nation, conceived in Liberty, and dedicated to the proposition that \n",
    "all men are created equal.\n",
    "\n",
    "Now we are engaged in a great civil war, testing whether that nation, or \n",
    "any nation so conceived and so dedicated, can long endure. We are met on\n",
    "a great battle-field of that war. We have come to dedicate a portion of\n",
    "that field, as a final resting place for those who here gave their lives\n",
    "that that nation might live. It is altogether fitting and proper that we\n",
    "should do this.\n",
    "\n",
    "But, in a larger sense, we can not dedicate -- we can not consecrate -- we\n",
    "can not hallow -- this ground. The brave men, living and dead, who struggled\n",
    "here, have consecrated it, far above our poor power to add or detract.  The\n",
    "world will little note, nor long remember what we say here, but it can never\n",
    "forget what they did here. It is for us the living, rather, to be dedicated\n",
    "here to the unfinished work which they who fought here have thus far so nobly\n",
    "advanced. It is rather for us to be here dedicated to the great task remaining\n",
    "before us -- that from these honored dead we take increased devotion to that\n",
    "cause for which they gave the last full measure of devotion -- that we here\n",
    "highly resolve that these dead shall not have died in vain -- that this\n",
    "nation, under God, shall have a new birth of freedom -- and that government\n",
    "of the people, by the people, for the people, shall not perish from the earth.\n",
    "\"\"\""
   ]
  },
  {
   "cell_type": "code",
   "execution_count": 48,
   "id": "f8c6cfde-9843-4ab5-97ba-a66ca46a3be9",
   "metadata": {},
   "outputs": [],
   "source": [
    "import re\n",
    "unique_words = {s.lower() for s in gettysburg_address.split() if s.isalpha()}\n",
    "words_counter = {s:sum([1 for match in re.finditer(r'\\b'+s+r'\\b', gettysburg_address)]) for s in unique_words}"
   ]
  },
  {
   "cell_type": "code",
   "execution_count": 50,
   "id": "564d3f5d-2803-480e-8ac6-47c8d2466a75",
   "metadata": {},
   "outputs": [
    {
     "data": {
      "image/png": "[encoded data removed]",
      "text/plain": [
       "<Figure size 400x400 with 1 Axes>"
      ]
     },
     "metadata": {},
     "output_type": "display_data"
    }
   ],
   "source": [
    "import matplotlib.pyplot as plt\n",
    "num_words = 5\n",
    "\n",
    "fig = plt.figure(figsize=(4,4))\n",
    "ax = fig.add_subplot(111)\n",
    "\n",
    "sorted_counter = sorted(words_counter.items(), key=lambda item : item[1], reverse=True)\n",
    "ax.bar(np.linspace(1,num_words+1, num_words), [x[1] for x in sorted_counter[:num_words]])\n",
    "ax.set_xticks(np.linspace(1,num_words+1, num_words), [x[0] for x in sorted_counter[:num_words]])"
   ]
  },
  {
   "cell_type": "markdown",
   "id": "fd1642c4-547d-40de-9cc0-ff2691dae415",
   "metadata": {
    "jp-MarkdownHeadingCollapsed": true
   },
   "source": [
    "## Q5: Foxes and dogs"
   ]
  },
  {
   "cell_type": "markdown",
   "id": "5f6d19ee-e80d-48a6-ae6f-971566af12f2",
   "metadata": {
    "jp-MarkdownHeadingCollapsed": true
   },
   "source": [
    "### Part 1. Short words\n",
    "\n",
    "Let's practice functions.  Here's a simple function that takes a string and returns a list of all the 4 letter words.\n",
    "Write a version of this function that takes a second argument, n, that is the word length we want to search for."
   ]
  },
  {
   "cell_type": "code",
   "execution_count": 51,
   "id": "6be13c4c-f83e-4e8f-bbb1-ca76f865c1cc",
   "metadata": {},
   "outputs": [],
   "source": [
    "def four_letter_words(message, n):\n",
    "    words = message.split()\n",
    "    four_letters = [w for w in words if len(w) == n]\n",
    "    return four_letters"
   ]
  },
  {
   "cell_type": "code",
   "execution_count": 54,
   "id": "32b605b6-f45a-4207-a48b-74fcf61ce3aa",
   "metadata": {},
   "outputs": [
    {
     "name": "stdout",
     "output_type": "stream",
     "text": [
      "['over', 'lazy']\n"
     ]
    }
   ],
   "source": [
    "message = \"The quick brown fox jumps over the lazy dog\"\n",
    "print(four_letter_words(message, 4))"
   ]
  },
  {
   "cell_type": "markdown",
   "id": "03daa5cd-e96a-42dc-83e1-edd9637d9263",
   "metadata": {
    "jp-MarkdownHeadingCollapsed": true
   },
   "source": [
    "### Part 2: Panagrams\n",
    "\n",
    "A _panagram_ is a sentence that includes all 26 letters of the alphabet, e.g., \"_The quick brown fox jumps over the lazy dog_.\"\n",
    "\n",
    "Write a function that takes as an argument a sentence and returns `True` or `False`, indicating whether the sentence is a panagram."
   ]
  },
  {
   "cell_type": "code",
   "execution_count": 58,
   "id": "cfe758db-2c53-47b1-8aef-513db1282afc",
   "metadata": {},
   "outputs": [],
   "source": [
    "def isPanagram(message):\n",
    "    alphabet = 'abcdefghijklmnopqrstuvwxyz'\n",
    "    for s in alphabet:\n",
    "        if s not in list(message.lower()):\n",
    "            return False\n",
    "    return True"
   ]
  },
  {
   "cell_type": "code",
   "execution_count": 59,
   "id": "32aa2e63-890b-40dd-9b7d-2754d0145a01",
   "metadata": {},
   "outputs": [
    {
     "data": {
      "text/plain": [
       "True"
      ]
     },
     "execution_count": 59,
     "metadata": {},
     "output_type": "execute_result"
    }
   ],
   "source": [
    "isPanagram(message)"
   ]
  },
  {
   "cell_type": "markdown",
   "id": "d81ba2aa-951d-488e-9176-070443d513c7",
   "metadata": {
    "jp-MarkdownHeadingCollapsed": true
   },
   "source": [
    "## Q6: Catch the error"
   ]
  },
  {
   "cell_type": "markdown",
   "id": "058ef327-3e87-43d7-92b1-f54b05bb19cd",
   "metadata": {},
   "source": [
    "We want to safely convert a string into a float, int, or leave it as a string, depending on its contents.  As we've already seen, python provides `float()` and `int()` functions for this. Notice that an int can be converted to a float, but if you convert a float to an int, you risk losing significant digits.  A string cannot be converted to either.\n",
    "\n",
    "### Your task\n",
    "\n",
    "Write a function, `convert_type(a)` that takes a string `a`, and converts it to a float if it is a number with a decimal point, an int if it is an integer, or leaves it as a string otherwise, and returns the result.  You'll want to use exceptions to prevent the code from aborting."
   ]
  },
  {
   "cell_type": "code",
   "execution_count": 4,
   "id": "5ac42822-7f7e-4025-ad07-9d638eed946c",
   "metadata": {},
   "outputs": [],
   "source": [
    "def convert_type(a):\n",
    "    try: b = float(a)\n",
    "    except ValueError:\n",
    "        print(f'{a} cannot be converted to float')\n",
    "        return a\n",
    "    if b-int(b) == 0:\n",
    "        print(f'{a} can be converted to int')\n",
    "        return int(b)\n",
    "    else:\n",
    "        print(f'{a} can be converted to float')\n",
    "        return b        "
   ]
  },
  {
   "cell_type": "markdown",
   "id": "823fc108-4a6f-42b3-8da0-89175117e317",
   "metadata": {
    "jp-MarkdownHeadingCollapsed": true
   },
   "source": [
    "## Q7 / Q10: Tic-tac-toe"
   ]
  },
  {
   "cell_type": "markdown",
   "id": "aa4b604c-1b09-4b39-bfbb-0e7d7593ac0d",
   "metadata": {},
   "source": [
    "Here we'll write a simple tic-tac-toe game that 2 players can play.  "
   ]
  },
  {
   "cell_type": "code",
   "execution_count": 3,
   "id": "6766a2ba-a428-49a9-9aff-853b6c9501f9",
   "metadata": {},
   "outputs": [],
   "source": [
    "class TicTacToe:\n",
    "    \"\"\"Tic-Tac-Toe class. This class incorporayes all the functions \n",
    "    to play the famous tic-tac-toe game between two players\"\"\"\n",
    "\n",
    "    def __init__(self):\n",
    "        \"\"\"Class constructor. Initialize the basic elements\"\"\"\n",
    "        self.play = {f's{i}':\"\" for i in range(1,10)}\n",
    "        self.board = \"\"\"\n",
    " {s1:^3} | {s2:^3} | {s3:^3}       1  2  3\n",
    "-----+-----+-----\n",
    " {s4:^3} | {s5:^3} | {s6:^3}       4  5  6\n",
    "-----+-----+-----      \n",
    " {s7:^3} | {s8:^3} | {s9:^3}       7  8  9       \n",
    "                         \n",
    "\"\"\"\n",
    "\n",
    "    def show_board(self):\n",
    "        \"\"\"Display the current state of the board\"\"\"\n",
    "        print(self.board.format(**self.play))\n",
    "\n",
    "\n",
    "    def get_move(self, n, XO):\n",
    "        \"\"\"Ask the current player, n, to make a move -- make sure the square was not \n",
    "        already played.  XO is a string of the character (X or O) we will place in\n",
    "        the desired square \"\"\"\n",
    "        valid_move = False\n",
    "        while not valid_move:\n",
    "            idx = input(f'Player {n}, enter your move (1-9)')\n",
    "            if self.play[f's{idx}'] == \"\":\n",
    "                valid_move = True\n",
    "            else:\n",
    "                print(f'Invalid move: {self.play[f\"s{idx}\"]}')\n",
    "                \n",
    "        self.play[f's{idx}'] = XO\n",
    "\n",
    "\n",
    "    def check_winner(self):\n",
    "        \"\"\"Check for winning conditions. This function checks the board looking for three identical symbols\n",
    "        on the same row, column or diagonal\"\"\"\n",
    "        win = False\n",
    "        winner = None\n",
    "        symb2play = lambda s : 1 if(s == 'X') else 2\n",
    "        for i in [1, 2, 3]:\n",
    "            if self.play[f's{i}'] == self.play[f's{i+3}'] == self.play[f's{i+6}'] != '':\n",
    "                win = True\n",
    "                winner = symb2play(self.play[f's{i}'])\n",
    "                \n",
    "        for i in [1, 4, 7]:\n",
    "            if self.play[f's{i}'] == self.play[f's{i+1}'] == self.play[f's{i+2}'] != '':\n",
    "                win = True\n",
    "                winner = symb2play(self.play[f's{i}'])\n",
    "                \n",
    "        if self.play[f's{1}'] == self.play[f's{5}'] == self.play[f's{9}'] != '':\n",
    "                win = True\n",
    "                winner = symb2play(self.play[f's{5}'])\n",
    "            \n",
    "        if self.play[f's{3}'] == self.play[f's{5}'] == self.play[f's{7}'] != '':\n",
    "                win = True\n",
    "                winner = symb2play(self.play[f's{5}'])\n",
    "            \n",
    "        return win, winner     \n",
    "\n",
    "\n",
    "    def play_game(self):\n",
    "        \"\"\"Play a game of tic-tac-toe \"\"\"\n",
    "        rand_start = input('Start the game with a random player: y/n')\n",
    "        if rand_start == 'y':\n",
    "            player = {1,2}.pop()\n",
    "        else:\n",
    "            player = input('Insert starting player (1 or 2): ')\n",
    "            if player not in ['1', '2']: \n",
    "                player = input('Please insert a valid starting player (1 or 2): ')\n",
    "        print(\"\"\"\\n \n",
    "        ***************\n",
    "        * Tic-Tac-Toe *\n",
    "        ***************\n",
    "        \\n\"\"\")\n",
    "\n",
    "        self.show_board()\n",
    "    \n",
    "        while '' in self.play.values():\n",
    "            player = ({1,2} - {player}).pop()\n",
    "            if player == 1: XO = 'X'\n",
    "            else: XO = 'O'\n",
    "            self.get_move(player, XO)\n",
    "            self.show_board()\n",
    "            win, winner = self.check_winner()\n",
    "            if win:\n",
    "                return f'Congrats player {winner}, you are the winner! '\n",
    "        print('Draw')"
   ]
  },
  {
   "cell_type": "code",
   "execution_count": null,
   "id": "e23ea5d5-fc72-4cc9-aabe-bbdbb6178b4e",
   "metadata": {},
   "outputs": [],
   "source": [
    "game = TicTacToe()\n",
    "game.play_game()"
   ]
  },
  {
   "cell_type": "markdown",
   "id": "04c1f883-cd21-44f5-91b4-6fe49fa136f1",
   "metadata": {
    "jp-MarkdownHeadingCollapsed": true
   },
   "source": [
    "## Q8: Shopping cart"
   ]
  },
  {
   "cell_type": "markdown",
   "id": "a81fa351-845a-483f-bd3a-d1a52bae37db",
   "metadata": {},
   "source": [
    "Let's write a simple shopping cart class -- this will hold items that you intend to purchase as well as the amount, etc.  And allow you to add / remove items, get a subtotal, etc.\n",
    "\n",
    "We'll use two classes: `Item` will be a single item and `ShoppingCart` will be the collection of items you wish to purchase.\n",
    "\n",
    "First, our store needs an inventory -- here's what we have for sale:"
   ]
  },
  {
   "cell_type": "code",
   "execution_count": 25,
   "id": "3a3aefec-9ecb-4997-9079-ad5052cb0670",
   "metadata": {},
   "outputs": [
    {
     "data": {
      "text/plain": [
       "{'apple': 0.6,\n",
       " 'banana': 0.2,\n",
       " 'grapefruit': 0.75,\n",
       " 'grapes': 1.99,\n",
       " 'kiwi': 0.5,\n",
       " 'lemon': 0.2,\n",
       " 'lime': 0.25,\n",
       " 'mango': 1.5,\n",
       " 'papaya': 2.95,\n",
       " 'pineapple': 3.5,\n",
       " 'blueberries': 1.99,\n",
       " 'blackberries': 2.5,\n",
       " 'peach': 0.5,\n",
       " 'plum': 0.33,\n",
       " 'clementine': 0.25,\n",
       " 'cantaloupe': 3.25,\n",
       " 'pear': 1.25,\n",
       " 'quince': 0.45,\n",
       " 'orange': 0.6}"
      ]
     },
     "execution_count": 25,
     "metadata": {},
     "output_type": "execute_result"
    }
   ],
   "source": [
    "INVENTORY_TEXT = \"\"\"\n",
    "apple, 0.60\n",
    "banana, 0.20\n",
    "grapefruit, 0.75\n",
    "grapes, 1.99\n",
    "kiwi, 0.50\n",
    "lemon, 0.20\n",
    "lime, 0.25\n",
    "mango, 1.50\n",
    "papaya, 2.95\n",
    "pineapple, 3.50\n",
    "blueberries, 1.99\n",
    "blackberries, 2.50\n",
    "peach, 0.50\n",
    "plum, 0.33\n",
    "clementine, 0.25\n",
    "cantaloupe, 3.25\n",
    "pear, 1.25\n",
    "quince, 0.45\n",
    "orange, 0.60\n",
    "\"\"\"\n",
    "\n",
    "# this will be a global -- convention is all caps\n",
    "INVENTORY = {}\n",
    "for line in INVENTORY_TEXT.splitlines():\n",
    "    if line.strip() == \"\":\n",
    "        continue\n",
    "    item, price = line.split(\",\")\n",
    "    INVENTORY[item] = float(price)\n",
    "\n",
    "INVENTORY"
   ]
  },
  {
   "cell_type": "markdown",
   "id": "1a4889fa-e92b-41d8-ad61-cde112220ba8",
   "metadata": {},
   "source": [
    "### Item\n",
    "\n",
    "Let's write an item class now -- we want it to hold the name and quantity.  \n",
    "\n",
    "You should have the following features:\n",
    "\n",
    "* The name should be something in our inventory\n",
    "\n",
    "* Our shopping cart will include a list of all the items we want to buy, so we want to be able to check for duplicates.  Implement the equal test, `==`, using `__eq__`\n",
    "\n",
    "* We'll want to consolidate duplicates, so implement the `+` operator, using `__add__` so we can add items together in our shopping cart.  Note, add should raise a ValueError if you try to add two `Items` that don't have the same name.\n",
    "\n",
    "Here's a start:"
   ]
  },
  {
   "cell_type": "code",
   "execution_count": 26,
   "id": "5a8a8faa-b158-4eff-aaa7-9d9180d28e1e",
   "metadata": {},
   "outputs": [],
   "source": [
    "class Item:\n",
    "    \"\"\"An item to buy \"\"\"\n",
    "    \n",
    "    def __init__(self, name, quantity=1):\n",
    "        \"\"\"Keep track of an item that is in our inventory\"\"\"\n",
    "        if name not in INVENTORY:\n",
    "            raise ValueError('Invalid item name')\n",
    "        self.name = name\n",
    "        self.quantity = quantity\n",
    "        \n",
    "    def __repr__(self):\n",
    "        return f'{self.name}: {self.quantity}'\n",
    "        \n",
    "    def __eq__(self, other):\n",
    "        \"\"\"check if the items have the same name\"\"\"\n",
    "        return self.name == other.name\n",
    "    \n",
    "    def __add__(self, other):\n",
    "        \"\"\"add two items together if they are the same type\"\"\"\n",
    "        if self.name == other.name:\n",
    "            return Item(self.name, self.quantity + other.quantity)\n",
    "        else:\n",
    "            raise ValueError(\"Names don't match\")"
   ]
  },
  {
   "cell_type": "markdown",
   "id": "620e3cb8-1bd6-421b-8e5a-2793d014e171",
   "metadata": {},
   "source": [
    "### Shopping cart\n",
    "\n",
    "Now we want to create a shopping cart.  The main thing it will do is hold a list of items."
   ]
  },
  {
   "cell_type": "code",
   "execution_count": 50,
   "id": "a583a85c-e748-4b4d-b9d4-57e5fc00d9b8",
   "metadata": {},
   "outputs": [],
   "source": [
    "class ShoppingCart:\n",
    "    \n",
    "    def __init__(self):\n",
    "        # the list of items we control\n",
    "        self.items = []\n",
    "        \n",
    "    def subtotal(self):\n",
    "        \"\"\"Return a subtotal of our items \"\"\"\n",
    "        tot = 0\n",
    "        for item in self.items:\n",
    "            tot += item.quantity * INVENTORY[item.name]\n",
    "        return tot\n",
    "\n",
    "    def add(self, name, quantity):\n",
    "        \"\"\"Add an item to our cart -- the an item of the same name already\n",
    "        exists, then increment the quantity.  Otherwise, add a new item\n",
    "        to the cart with the desired quantity.\"\"\"\n",
    "        item = Item(name, quantity)\n",
    "        if item in self.items:\n",
    "            self.items[self.items.index(item)] += item\n",
    "        else:\n",
    "            self.items.append(item)\n",
    "            \n",
    "    def remove(self, name):\n",
    "        \"\"\"Remove all of item name from the cart \"\"\"\n",
    "        item = Item(name)\n",
    "        if item in self.items:\n",
    "            self.items.remove(item)\n",
    "        \n",
    "    def report(self):\n",
    "        \"\"\"Print a summary of the cart \"\"\"\n",
    "        for item in self.items:\n",
    "            print(f'{item.name} : {item.quantity}')"
   ]
  },
  {
   "cell_type": "markdown",
   "id": "4c78055e-be46-4880-b1cc-1510d770ad0d",
   "metadata": {
    "jp-MarkdownHeadingCollapsed": true
   },
   "source": [
    "## Q9: Poker odds"
   ]
  },
  {
   "cell_type": "markdown",
   "id": "db712617-c4a1-432f-9492-f55c0bbdf933",
   "metadata": {},
   "source": [
    "Use the deck of cards class from the notebook we worked through class to write a _Monte Carlo_ code that plays a lot of hands of straight poker (like 100,000).  Count how many of these hands has a particular poker hand (like 3-of-a-kind).  The ratio of # of hands with 3-of-a-kind to total hands is an approximation to the odds of getting a 3-of-a-kind in poker.\n",
    "\n",
    "### Bonus: \n",
    "Just to practice modules, write that into a `.py` file to allow you to import and reuse them here."
   ]
  },
  {
   "cell_type": "code",
   "execution_count": 50,
   "id": "1167417c-7a3b-4f50-9ff1-fc98b10a75ee",
   "metadata": {},
   "outputs": [],
   "source": [
    "from deckOfCards import *\n",
    "import numpy as np\n",
    "import matplotlib.pyplot as plt\n",
    "\n",
    "def checkPoints(hands):\n",
    "    \"\"\"Check for points in a hand of cards. \n",
    "    Possible points: pair, two pair, three of a kind (trips), straight, flush, full house, four of a kind (quads), straight flush, royal flush\n",
    "    Suits = spade (1), heart (2), diamond (3), club (4)\n",
    "    \"\"\"\n",
    "    points = {'pair':0, 'two pair':0, 'three of a kind':0, 'straight':0, 'flush':0, 'full house':0, 'four of a kind':0,\\\n",
    "              'straight flush':0, 'royal flush':0}\n",
    "    \n",
    "    for hand in hands:\n",
    "        ranks = [card.rank for card in hand]\n",
    "        suits = [card.suit for card in hand]\n",
    "    \n",
    "        rank_counts = {f'{val}':ranks.count(val) for val in list(set(ranks))}\n",
    "        suit_counts = {f'{val}':suits.count(val) for val in list(set(suits))}\n",
    "\n",
    "        if 5 in suit_counts.values():\n",
    "            if sorted(ranks) == [10,11,12,13,14]:\n",
    "                points['royal flush'] += 1\n",
    "            elif sorted(ranks)[-1] == sorted(ranks)[0]+4 or sorted(ranks) == [2,3,4,5,14]:\n",
    "                points['straight flush'] += 1\n",
    "            else:\n",
    "                points['flush'] += 1\n",
    "\n",
    "        if sorted(ranks)[-1] == sorted(ranks)[0]+4 or sorted(ranks) == [2,3,4,5,14]:\n",
    "            points['straight'] += 1\n",
    "\n",
    "        if 4 in rank_counts.values():\n",
    "            points['four of a kind'] += 1\n",
    "        elif 3 in rank_counts.values():\n",
    "            if 2 in rank_counts.values():\n",
    "                points['full house'] += 1\n",
    "            else:\n",
    "                points['three of a kind'] += 1\n",
    "        elif 2 in rank_counts.values():\n",
    "            if list(rank_counts.values()).count(2) == 2:\n",
    "                points['two pair'] += 1\n",
    "            else:\n",
    "                points['pair'] += 1\n",
    "\n",
    "    return points"
   ]
  },
  {
   "cell_type": "code",
   "execution_count": 51,
   "id": "1cabfac9-f0e5-4966-aac2-9efca0e8ee5d",
   "metadata": {},
   "outputs": [],
   "source": [
    "manyHands = []\n",
    "\n",
    "for i in range(100000):\n",
    "    mydeck = Deck()\n",
    "    mydeck.shuffle()\n",
    "    manyHands += [mydeck.get_cards(5)]\n",
    "\n",
    "points = checkPoints(manyHands)"
   ]
  },
  {
   "cell_type": "code",
   "execution_count": 58,
   "id": "ed737017-3fe2-413c-a899-a79dc685a9ee",
   "metadata": {},
   "outputs": [
    {
     "data": {
      "text/plain": [
       "Text(0, 0.5, 'log(P)')"
      ]
     },
     "execution_count": 58,
     "metadata": {},
     "output_type": "execute_result"
    },
    {
     "data": {
      "image/png": "[encoded data removed]",
      "text/plain": [
       "<Figure size 640x480 with 1 Axes>"
      ]
     },
     "metadata": {},
     "output_type": "display_data"
    }
   ],
   "source": [
    "fig = plt.figure()\n",
    "ax = fig.add_subplot(111)\n",
    "\n",
    "plot = ax.bar(np.linspace(1,len(points.keys())+1, len(points.keys())), [n/len(manyHands) for n in list(points.values())], log=True)\n",
    "ax.bar_label(plot, [n/len(manyHands) for n in list(points.values())], size=8)\n",
    "ax.set_xticks(np.linspace(1,len(points.keys())+1, len(points.keys())), [x for x in list(points.keys())])\n",
    "ax.tick_params(axis='x', labelrotation=45)\n",
    "ax.set_ylabel('log(P)')"
   ]
  },
  {
   "cell_type": "markdown",
   "id": "13dde4c9-3b91-41d3-9cc2-2747ba5ad2b9",
   "metadata": {
    "jp-MarkdownHeadingCollapsed": true
   },
   "source": [
    "## Q11: Rock-Paper-Scissors"
   ]
  },
  {
   "cell_type": "markdown",
   "id": "13fab47a-13ff-4c11-9f01-583170eb3cc9",
   "metadata": {},
   "source": [
    "Implement a set of games of rock-paper-scissors against the computer.  \n",
    "\n",
    "  * Ask for input from the user (\"rock\", \"paper\", or \"scissors\") and the randomly select one of these for the computer's play.\n",
    "  * Announce who won.\n",
    "  * Keep playing until a player says that they no longer want to play.\n",
    "  * When all games are done, print out how many games were won by the player and by the computer "
   ]
  },
  {
   "cell_type": "code",
   "execution_count": 65,
   "id": "ba857544-ca09-4c74-975d-fe39d000f657",
   "metadata": {},
   "outputs": [
    {
     "name": "stdout",
     "output_type": "stream",
     "text": [
      "\n",
      "***********************\n",
      "* Rock Paper Scissors *\n",
      "***********************\n",
      "\n"
     ]
    },
    {
     "name": "stdin",
     "output_type": "stream",
     "text": [
      "Rock (r), paper (p) or scissors (s)? s\n"
     ]
    },
    {
     "name": "stdout",
     "output_type": "stream",
     "text": [
      "Player: s VS computer: p\n",
      "Player wins\n"
     ]
    },
    {
     "name": "stdin",
     "output_type": "stream",
     "text": [
      "Play again (y/n)? y\n",
      "Rock (r), paper (p) or scissors (s)? r\n"
     ]
    },
    {
     "name": "stdout",
     "output_type": "stream",
     "text": [
      "Player: r VS computer: p\n",
      "Computer wins\n"
     ]
    },
    {
     "name": "stdin",
     "output_type": "stream",
     "text": [
      "Play again (y/n)? y\n",
      "Rock (r), paper (p) or scissors (s)? p\n"
     ]
    },
    {
     "name": "stdout",
     "output_type": "stream",
     "text": [
      "Player: p VS computer: p\n",
      "draw\n"
     ]
    },
    {
     "name": "stdin",
     "output_type": "stream",
     "text": [
      "Play again (y/n)? y\n",
      "Rock (r), paper (p) or scissors (s)? r\n"
     ]
    },
    {
     "name": "stdout",
     "output_type": "stream",
     "text": [
      "Player: r VS computer: p\n",
      "Computer wins\n"
     ]
    },
    {
     "name": "stdin",
     "output_type": "stream",
     "text": [
      "Play again (y/n)? y\n",
      "Rock (r), paper (p) or scissors (s)? s\n"
     ]
    },
    {
     "name": "stdout",
     "output_type": "stream",
     "text": [
      "Player: s VS computer: p\n",
      "Player wins\n"
     ]
    },
    {
     "name": "stdin",
     "output_type": "stream",
     "text": [
      "Play again (y/n)? n\n"
     ]
    }
   ],
   "source": [
    "print(\"\"\"\n",
    "***********************\n",
    "* Rock Paper Scissors *\n",
    "***********************\n",
    "\"\"\")\n",
    "winner = {'player':0, 'computer':0, 'draw':0}\n",
    "play = True\n",
    "while play:\n",
    "    player = input('Rock (r), paper (p) or scissors (s)?')\n",
    "    if player not in ['r', 'p', 's']:\n",
    "        print('Invalid input')\n",
    "        player = input('Rock (r), paper (p) or scissors (s)?')\n",
    "    bot = {'r', 'p', 's'}.pop()\n",
    "\n",
    "    print(f'Player: {player} VS computer: {bot}')\n",
    "\n",
    "    if player == bot:\n",
    "        print('draw')\n",
    "        winner['draw'] += 1\n",
    "    elif (player == 'r' and bot == 'p') or (player == 'p' and bot == 's') or (player == 's' and bot == 'r'):\n",
    "        print('Computer wins')\n",
    "        winner['computer'] += 1\n",
    "    else:\n",
    "        print('Player wins')\n",
    "        winner['player'] += 1\n",
    "\n",
    "    playAgain = lambda x : True if(x == 'y') else False\n",
    "    play = playAgain(input('Play again (y/n)?'))\n",
    "\n",
    "print(f\"\"\"\\n\n",
    "______________________________________ \\n\n",
    "Computer won {winner['computer'] times \\n\n",
    "player won {winner['player'] times \\n\n",
    "draw happens {winner['draw'] times}\n",
    "\"\"\")"
   ]
  },
  {
   "cell_type": "markdown",
   "id": "fa35f967-19e2-4fd8-980c-261e5a8d6c6c",
   "metadata": {
    "jp-MarkdownHeadingCollapsed": true
   },
   "source": [
    "## Q12: Pascal's triangle"
   ]
  },
  {
   "cell_type": "markdown",
   "id": "2511f388-1861-43a9-b168-5df17697f98a",
   "metadata": {},
   "source": [
    "Pascal's triangle is created such that each layer has 1 more element than the previous, with `1`s on the side and in the interior, the numbers are the sum of the two above it, e.g.,:\n",
    "```\n",
    "            1\n",
    "          1   1\n",
    "        1   2   1\n",
    "      1   3   3   1\n",
    "    1   4   6   4   1\n",
    "  1   5   10  10  5   1\n",
    "```\n",
    "\n",
    "1. Write a function to return the first `n` rows of Pascal's triangle.  The return should be a list of length `n`, with each element itself a list containing the numbers for that row.\n",
    "2. Write a function to print out Pascal's triangle with proper formatting, so the numbers in each row are centered between the ones in the row above"
   ]
  },
  {
   "cell_type": "code",
   "execution_count": 76,
   "id": "acefef6c-4404-4ba1-a24f-e0eac26fa43f",
   "metadata": {},
   "outputs": [],
   "source": [
    "class PascalTriangle:\n",
    "    \"\"\"General class for Pascal's triangle of order n\"\"\"\n",
    "\n",
    "    def __init__(self):\n",
    "        \"\"\"Initialize the triangle\"\"\"\n",
    "        self.ptriang = [[1]]\n",
    "\n",
    "    def eval(self, n):\n",
    "        add_row = lambda x : x + [[1]+[i+j for i,j in zip(x[-1][1:], x[-1][:-1])]+[1]]\n",
    "        self.ptriang = [[1]]\n",
    "        for i in range(n):\n",
    "            self.ptriang = add_row(self.ptriang)\n",
    "\n",
    "    def show(self):\n",
    "        output = ''\n",
    "        max_len = len('   '.join(str(el) for el in self.ptriang[-1]))\n",
    "        for row in self.ptriang:\n",
    "            new_row = '   '.join(str(el) for el in row)\n",
    "            output += ' '*((max_len - len(new_row))//2) + new_row + ' '*((max_len - len(new_row))//2) + '\\n'\n",
    "        print(output)"
   ]
  },
  {
   "cell_type": "code",
   "execution_count": 78,
   "id": "985105db-142d-45c5-84c3-9de8a682f658",
   "metadata": {},
   "outputs": [
    {
     "name": "stdout",
     "output_type": "stream",
     "text": [
      "                           1                           \n",
      "                         1   1                         \n",
      "                       1   2   1                       \n",
      "                     1   3   3   1                     \n",
      "                   1   4   6   4   1                   \n",
      "                1   5   10   10   5   1                \n",
      "             1   6   15   20   15   6   1             \n",
      "           1   7   21   35   35   21   7   1           \n",
      "        1   8   28   56   70   56   28   8   1        \n",
      "     1   9   36   84   126   126   84   36   9   1     \n",
      "1   10   45   120   210   252   210   120   45   10   1\n",
      "\n"
     ]
    }
   ],
   "source": [
    "ptri = PascalTriangle()\n",
    "ptri.eval(10)\n",
    "ptri.show()"
   ]
  },
  {
   "cell_type": "markdown",
   "id": "6dab95da-850f-43e3-939e-bc8d65734c99",
   "metadata": {},
   "source": [
    "## Q13: Calendar events"
   ]
  },
  {
   "cell_type": "markdown",
   "id": "98bcaf8e-cdf9-4890-bac5-0d514e172aef",
   "metadata": {},
   "source": [
    "We want to keep a schedule of events.  We will do this by creating a class called `Day`.  It is sketched out below.  A `Day` holds a list of events and has methods that allow you to add an delete events.  Our events will be instances of a class `Event`, which holds the time, location, and description of the event.\n",
    "\n",
    "Finally, we can keep track of a list of all the `Day`s for which we have events to make our schedule.\n",
    "\n",
    "Fill in these classes and write some code to demonstrate their use:\n",
    "\n",
    "  * Create a full week of days in your calendar\n",
    "  * Add an event every day at noon called \"lunch\"\n",
    "  * Randomly add some other events to fill out your calendar\n",
    "  * Write some code that tells you the start time of your first meeting and the end time of your last meeting (this is the length of your work day)"
   ]
  },
  {
   "cell_type": "code",
   "execution_count": 251,
   "id": "023fa459-1e55-4d4a-85c8-7a78dd5ebe53",
   "metadata": {},
   "outputs": [],
   "source": [
    "import datetime as dt\n",
    "\n",
    "class Day:\n",
    "    \"\"\"a single day keeping track of the events scheduled. Date format dd/mm/yyyy\"\"\"\n",
    "    def __init__(self, date):\n",
    "        # store the month, day, and year as data in the class\n",
    "        self.date = dt.date(year=int(date.split('/')[2]), month=int(date.split('/')[1]), day=int(date.split('/')[0]))\n",
    "        # keep track of the events\n",
    "        self.events = []\n",
    "\n",
    "    def __str__(self):\n",
    "        return self.date.strftime('%a %d %b %Y')\n",
    "    \n",
    "    def add_event(self, name, time=None, location=None, duration=None):\n",
    "        new_event = Event(self.date, name, time=time, location=location, duration=duration)\n",
    "        if time is not None:\n",
    "            for event in self.events:\n",
    "                if event.time < new_event.time < event.time+event.duration:\n",
    "                    print(f'''Warning! You have overlapping events:\\n{new_event}\\n{event}''')\n",
    "        self.events.append(new_event)\n",
    "        self.events.sort(key=lambda x : x.time)\n",
    "\n",
    "    def list_events(self):\n",
    "        print('\\033[1m' + self.date.strftime('%a %d %b %Y') + '\\033[0m')\n",
    "        for event in self.events:\n",
    "            print('\\u23f5 ', event)\n",
    "    \n",
    "    def delete_event(self, name):\n",
    "        for event in self.events:\n",
    "            if event.name == name:\n",
    "                self.events.remove(event)\n",
    "                pass\n",
    "\n",
    "    def workingday(self):\n",
    "        print(f'''First event: {self.events[0]}\\nLast event: {self.events[-1]}''')\n",
    "    \n",
    "    \n",
    "class Event:\n",
    "    \"\"\"a single event in our calendar\"\"\"\n",
    "    def __init__(self, date, name, time='9:00', location=None, duration='1:00'):\n",
    "        self.name = name\n",
    "        self.time = dt.datetime.combine(date, dt.time(hour=int(time.split(':')[0]), minute=int(time.split(':')[1])))\n",
    "        self.location = location\n",
    "        self.duration = dt.timedelta(hours=int(duration.split(':')[0]), minutes=int(duration.split(':')[1]))\n",
    "\n",
    "\n",
    "    def __str__(self):\n",
    "        return f'[{self.time.time()} | {(self.time+self.duration).time()}]: ' \\\n",
    "        f'''{self.name} {f'({self.location})' if self.location is not None else \"\"}'''"
   ]
  },
  {
   "cell_type": "code",
   "execution_count": 252,
   "id": "58ec57e3-e247-48a9-94e4-bb9db8dea921",
   "metadata": {},
   "outputs": [
    {
     "name": "stdout",
     "output_type": "stream",
     "text": [
      "Mon 15 Jan 2024\n"
     ]
    }
   ],
   "source": [
    "mon = Day('15/01/2024')\n",
    "print(mon)"
   ]
  },
  {
   "cell_type": "code",
   "execution_count": 253,
   "id": "027931f5-3c03-4e33-a7b2-b182a73389ed",
   "metadata": {},
   "outputs": [
    {
     "name": "stdout",
     "output_type": "stream",
     "text": [
      "Warning! You have overlapping events:\n",
      "[11:00:00 | 11:45:00]: meeting2 \n",
      "[10:30:00 | 11:30:00]: meeting \n"
     ]
    }
   ],
   "source": [
    "mon.add_event('lunch', time='12:30', duration='0:30', location='Pan cafe')\n",
    "mon.add_event('meeting', time='10:30', duration='1:00')\n",
    "mon.add_event('meeting2', time='11:00', duration='00:45')"
   ]
  },
  {
   "cell_type": "code",
   "execution_count": 254,
   "id": "4c446971-b680-4804-91c3-4f5d6aae48cf",
   "metadata": {},
   "outputs": [
    {
     "name": "stdout",
     "output_type": "stream",
     "text": [
      "\u001b[1mMon 15 Jan 2024\u001b[0m\n",
      "⏵  [10:30:00 | 11:30:00]: meeting \n",
      "⏵  [11:00:00 | 11:45:00]: meeting2 \n",
      "⏵  [12:30:00 | 13:00:00]: lunch (Pan cafe)\n"
     ]
    }
   ],
   "source": [
    "mon.list_events()"
   ]
  },
  {
   "cell_type": "code",
   "execution_count": 255,
   "id": "145b8509-731a-43ec-a46c-407ec6188a17",
   "metadata": {},
   "outputs": [
    {
     "name": "stdout",
     "output_type": "stream",
     "text": [
      "\u001b[1mMon 15 Jan 2024\u001b[0m\n",
      "⏵  [10:30:00 | 11:30:00]: meeting \n",
      "⏵  [12:30:00 | 13:00:00]: lunch (Pan cafe)\n"
     ]
    }
   ],
   "source": [
    "mon.delete_event('meeting2')\n",
    "mon.list_events()"
   ]
  },
  {
   "cell_type": "code",
   "execution_count": 256,
   "id": "80b24afe-b6e4-4caa-b831-e03fd5e69f22",
   "metadata": {},
   "outputs": [
    {
     "name": "stdout",
     "output_type": "stream",
     "text": [
      "First event: [10:30:00 | 11:30:00]: meeting \n",
      "Last event: [12:30:00 | 13:00:00]: lunch (Pan cafe)\n"
     ]
    }
   ],
   "source": [
    "mon.workingday()"
   ]
  }
 ],
 "metadata": {
  "kernelspec": {
   "display_name": "Python 3 (ipykernel)",
   "language": "python",
   "name": "python3"
  },
  "language_info": {
   "codemirror_mode": {
    "name": "ipython",
    "version": 3
   },
   "file_extension": ".py",
   "mimetype": "text/x-python",
   "name": "python",
   "nbconvert_exporter": "python",
   "pygments_lexer": "ipython3",
   "version": "3.9.18"
  }
 },
 "nbformat": 4,
 "nbformat_minor": 5
}
