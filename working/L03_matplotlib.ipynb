{
 "cells": [
  {
   "cell_type": "code",
   "execution_count": 1,
   "id": "35e442ea-42d0-49c7-9bee-104cefd23c88",
   "metadata": {},
   "outputs": [],
   "source": [
    "import matplotlib.pyplot as plt\n",
    "import numpy as np\n",
    "\n",
    "plt.rcParams.update({\n",
    "    \"text.usetex\": True,\n",
    "    \"font.family\": \"Helvetica\"\n",
    "})"
   ]
  },
  {
   "cell_type": "markdown",
   "id": "92f46f6b-1fce-4566-bd58-9cdb59c299c9",
   "metadata": {},
   "source": [
    "## Q2: Planetary positions\n",
    "\n",
    "The distances of the planets from the Sun (technically, their semi-major axes) are:"
   ]
  },
  {
   "cell_type": "code",
   "execution_count": 2,
   "id": "86d09e79-4edc-440b-9f3a-b143bb0c4c48",
   "metadata": {},
   "outputs": [],
   "source": [
    "a = np.array([0.39, 0.72, 1.00, 1.52, 5.20, 9.54, 19.22, 30.06, 39.48])"
   ]
  },
  {
   "cell_type": "markdown",
   "id": "21a8b10e-0e6f-4426-983e-8e4e2b21fe64",
   "metadata": {},
   "source": [
    "These are in units where the Earth-Sun distance is 1 (astronomical units).\n",
    "\n",
    "The corresponding periods of their orbits (how long they take to go once around the Sun) are, in years"
   ]
  },
  {
   "cell_type": "code",
   "execution_count": 3,
   "id": "0f3985d5-924e-451d-8228-1b374228405a",
   "metadata": {},
   "outputs": [],
   "source": [
    "P = np.array([0.24, 0.62, 1.00, 1.88, 11.86, 29.46, 84.01, 164.8, 248.09])"
   ]
  },
  {
   "cell_type": "markdown",
   "id": "30d9d91b-c7c6-4d07-8822-96c1887e1810",
   "metadata": {},
   "source": [
    "Finally, the names of the planets corresponding to these are:"
   ]
  },
  {
   "cell_type": "code",
   "execution_count": 4,
   "id": "85077826-066c-440b-9107-63564cff2973",
   "metadata": {},
   "outputs": [],
   "source": [
    "names = [\"Mercury\", \"Venus\", \"Earth\", \"Mars\", \"Jupiter\", \"Saturn\", \n",
    "         \"Uranus\", \"Neptune\", \"Pluto\"]"
   ]
  },
  {
   "cell_type": "markdown",
   "id": "6499c753-b66e-45b6-8286-fa2cf443d9eb",
   "metadata": {},
   "source": [
    "(technically, pluto isn't a planet anymore, but we still love it :)\n",
    "\n",
    "  * Plot as points, the periods vs. distances for each planet on a log-log plot.\n",
    "\n",
    "  * Write the name of the planet next to the point for that planet on the plot"
   ]
  },
  {
   "cell_type": "code",
   "execution_count": 10,
   "id": "b8d368f1-33ee-49c4-b160-7bab38dcf7b8",
   "metadata": {},
   "outputs": [
    {
     "data": {
      "text/plain": [
       "\u001b[0;31mSignature:\u001b[0m\n",
       "\u001b[0mplt\u001b[0m\u001b[0;34m.\u001b[0m\u001b[0mannotate\u001b[0m\u001b[0;34m(\u001b[0m\u001b[0;34m\u001b[0m\n",
       "\u001b[0;34m\u001b[0m    \u001b[0mtext\u001b[0m\u001b[0;34m:\u001b[0m \u001b[0;34m'str'\u001b[0m\u001b[0;34m,\u001b[0m\u001b[0;34m\u001b[0m\n",
       "\u001b[0;34m\u001b[0m    \u001b[0mxy\u001b[0m\u001b[0;34m:\u001b[0m \u001b[0;34m'tuple[float, float]'\u001b[0m\u001b[0;34m,\u001b[0m\u001b[0;34m\u001b[0m\n",
       "\u001b[0;34m\u001b[0m    \u001b[0mxytext\u001b[0m\u001b[0;34m:\u001b[0m \u001b[0;34m'tuple[float, float] | None'\u001b[0m \u001b[0;34m=\u001b[0m \u001b[0;32mNone\u001b[0m\u001b[0;34m,\u001b[0m\u001b[0;34m\u001b[0m\n",
       "\u001b[0;34m\u001b[0m    \u001b[0mxycoords\u001b[0m\u001b[0;34m:\u001b[0m \u001b[0;34m'str | Artist | Transform | Callable[[RendererBase], Bbox | Transform] | tuple[float, float]'\u001b[0m \u001b[0;34m=\u001b[0m \u001b[0;34m'data'\u001b[0m\u001b[0;34m,\u001b[0m\u001b[0;34m\u001b[0m\n",
       "\u001b[0;34m\u001b[0m    \u001b[0mtextcoords\u001b[0m\u001b[0;34m:\u001b[0m \u001b[0;34m'str | Artist | Transform | Callable[[RendererBase], Bbox | Transform] | tuple[float, float] | None'\u001b[0m \u001b[0;34m=\u001b[0m \u001b[0;32mNone\u001b[0m\u001b[0;34m,\u001b[0m\u001b[0;34m\u001b[0m\n",
       "\u001b[0;34m\u001b[0m    \u001b[0marrowprops\u001b[0m\u001b[0;34m:\u001b[0m \u001b[0;34m'dict[str, Any] | None'\u001b[0m \u001b[0;34m=\u001b[0m \u001b[0;32mNone\u001b[0m\u001b[0;34m,\u001b[0m\u001b[0;34m\u001b[0m\n",
       "\u001b[0;34m\u001b[0m    \u001b[0mannotation_clip\u001b[0m\u001b[0;34m:\u001b[0m \u001b[0;34m'bool | None'\u001b[0m \u001b[0;34m=\u001b[0m \u001b[0;32mNone\u001b[0m\u001b[0;34m,\u001b[0m\u001b[0;34m\u001b[0m\n",
       "\u001b[0;34m\u001b[0m    \u001b[0;34m**\u001b[0m\u001b[0mkwargs\u001b[0m\u001b[0;34m,\u001b[0m\u001b[0;34m\u001b[0m\n",
       "\u001b[0;34m\u001b[0m\u001b[0;34m)\u001b[0m \u001b[0;34m->\u001b[0m \u001b[0;34m'Annotation'\u001b[0m\u001b[0;34m\u001b[0m\u001b[0;34m\u001b[0m\u001b[0m\n",
       "\u001b[0;31mDocstring:\u001b[0m\n",
       "Annotate the point *xy* with text *text*.\n",
       "\n",
       "In the simplest form, the text is placed at *xy*.\n",
       "\n",
       "Optionally, the text can be displayed in another position *xytext*.\n",
       "An arrow pointing from the text to the annotated point *xy* can then\n",
       "be added by defining *arrowprops*.\n",
       "\n",
       "Parameters\n",
       "----------\n",
       "text : str\n",
       "    The text of the annotation.\n",
       "\n",
       "xy : (float, float)\n",
       "    The point *(x, y)* to annotate. The coordinate system is determined\n",
       "    by *xycoords*.\n",
       "\n",
       "xytext : (float, float), default: *xy*\n",
       "    The position *(x, y)* to place the text at. The coordinate system\n",
       "    is determined by *textcoords*.\n",
       "\n",
       "xycoords : single or two-tuple of str or `.Artist` or `.Transform` or callable, default: 'data'\n",
       "\n",
       "    The coordinate system that *xy* is given in. The following types\n",
       "    of values are supported:\n",
       "\n",
       "    - One of the following strings:\n",
       "\n",
       "      ==================== ============================================\n",
       "      Value                Description\n",
       "      ==================== ============================================\n",
       "      'figure points'      Points from the lower left of the figure\n",
       "      'figure pixels'      Pixels from the lower left of the figure\n",
       "      'figure fraction'    Fraction of figure from lower left\n",
       "      'subfigure points'   Points from the lower left of the subfigure\n",
       "      'subfigure pixels'   Pixels from the lower left of the subfigure\n",
       "      'subfigure fraction' Fraction of subfigure from lower left\n",
       "      'axes points'        Points from lower left corner of axes\n",
       "      'axes pixels'        Pixels from lower left corner of axes\n",
       "      'axes fraction'      Fraction of axes from lower left\n",
       "      'data'               Use the coordinate system of the object\n",
       "                           being annotated (default)\n",
       "      'polar'              *(theta, r)* if not native 'data'\n",
       "                           coordinates\n",
       "      ==================== ============================================\n",
       "\n",
       "      Note that 'subfigure pixels' and 'figure pixels' are the same\n",
       "      for the parent figure, so users who want code that is usable in\n",
       "      a subfigure can use 'subfigure pixels'.\n",
       "\n",
       "    - An `.Artist`: *xy* is interpreted as a fraction of the artist's\n",
       "      `~matplotlib.transforms.Bbox`. E.g. *(0, 0)* would be the lower\n",
       "      left corner of the bounding box and *(0.5, 1)* would be the\n",
       "      center top of the bounding box.\n",
       "\n",
       "    - A `.Transform` to transform *xy* to screen coordinates.\n",
       "\n",
       "    - A function with one of the following signatures::\n",
       "\n",
       "        def transform(renderer) -> Bbox\n",
       "        def transform(renderer) -> Transform\n",
       "\n",
       "      where *renderer* is a `.RendererBase` subclass.\n",
       "\n",
       "      The result of the function is interpreted like the `.Artist` and\n",
       "      `.Transform` cases above.\n",
       "\n",
       "    - A tuple *(xcoords, ycoords)* specifying separate coordinate\n",
       "      systems for *x* and *y*. *xcoords* and *ycoords* must each be\n",
       "      of one of the above described types.\n",
       "\n",
       "    See :ref:`plotting-guide-annotation` for more details.\n",
       "\n",
       "textcoords : single or two-tuple of str or `.Artist` or `.Transform` or callable, default: value of *xycoords*\n",
       "    The coordinate system that *xytext* is given in.\n",
       "\n",
       "    All *xycoords* values are valid as well as the following strings:\n",
       "\n",
       "    =================   =================================================\n",
       "    Value               Description\n",
       "    =================   =================================================\n",
       "    'offset points'     Offset, in points, from the *xy* value\n",
       "    'offset pixels'     Offset, in pixels, from the *xy* value\n",
       "    'offset fontsize'   Offset, relative to fontsize, from the *xy* value\n",
       "    =================   =================================================\n",
       "\n",
       "arrowprops : dict, optional\n",
       "    The properties used to draw a `.FancyArrowPatch` arrow between the\n",
       "    positions *xy* and *xytext*.  Defaults to None, i.e. no arrow is\n",
       "    drawn.\n",
       "\n",
       "    For historical reasons there are two different ways to specify\n",
       "    arrows, \"simple\" and \"fancy\":\n",
       "\n",
       "    **Simple arrow:**\n",
       "\n",
       "    If *arrowprops* does not contain the key 'arrowstyle' the\n",
       "    allowed keys are:\n",
       "\n",
       "    ==========  =================================================\n",
       "    Key         Description\n",
       "    ==========  =================================================\n",
       "    width       The width of the arrow in points\n",
       "    headwidth   The width of the base of the arrow head in points\n",
       "    headlength  The length of the arrow head in points\n",
       "    shrink      Fraction of total length to shrink from both ends\n",
       "    ?           Any `.FancyArrowPatch` property\n",
       "    ==========  =================================================\n",
       "\n",
       "    The arrow is attached to the edge of the text box, the exact\n",
       "    position (corners or centers) depending on where it's pointing to.\n",
       "\n",
       "    **Fancy arrow:**\n",
       "\n",
       "    This is used if 'arrowstyle' is provided in the *arrowprops*.\n",
       "\n",
       "    Valid keys are the following `.FancyArrowPatch` parameters:\n",
       "\n",
       "    ===============  ===================================\n",
       "    Key              Description\n",
       "    ===============  ===================================\n",
       "    arrowstyle       The arrow style\n",
       "    connectionstyle  The connection style\n",
       "    relpos           See below; default is (0.5, 0.5)\n",
       "    patchA           Default is bounding box of the text\n",
       "    patchB           Default is None\n",
       "    shrinkA          Default is 2 points\n",
       "    shrinkB          Default is 2 points\n",
       "    mutation_scale   Default is text size (in points)\n",
       "    mutation_aspect  Default is 1\n",
       "    ?                Any `.FancyArrowPatch` property\n",
       "    ===============  ===================================\n",
       "\n",
       "    The exact starting point position of the arrow is defined by\n",
       "    *relpos*. It's a tuple of relative coordinates of the text box,\n",
       "    where (0, 0) is the lower left corner and (1, 1) is the upper\n",
       "    right corner. Values <0 and >1 are supported and specify points\n",
       "    outside the text box. By default (0.5, 0.5), so the starting point\n",
       "    is centered in the text box.\n",
       "\n",
       "annotation_clip : bool or None, default: None\n",
       "    Whether to clip (i.e. not draw) the annotation when the annotation\n",
       "    point *xy* is outside the axes area.\n",
       "\n",
       "    - If *True*, the annotation will be clipped when *xy* is outside\n",
       "      the axes.\n",
       "    - If *False*, the annotation will always be drawn.\n",
       "    - If *None*, the annotation will be clipped when *xy* is outside\n",
       "      the axes and *xycoords* is 'data'.\n",
       "\n",
       "**kwargs\n",
       "    Additional kwargs are passed to `.Text`.\n",
       "\n",
       "Returns\n",
       "-------\n",
       "`.Annotation`\n",
       "\n",
       "See Also\n",
       "--------\n",
       ":ref:`plotting-guide-annotation`\n",
       "\u001b[0;31mFile:\u001b[0m      ~/anaconda3/lib/python3.9/site-packages/matplotlib/pyplot.py\n",
       "\u001b[0;31mType:\u001b[0m      function"
      ]
     },
     "metadata": {},
     "output_type": "display_data"
    }
   ],
   "source": [
    "plt.annotate?"
   ]
  },
  {
   "cell_type": "code",
   "execution_count": 16,
   "id": "4b702ca2-b7ca-4327-ba51-d6cf29b11177",
   "metadata": {},
   "outputs": [
    {
     "data": {
      "text/plain": [
       "(0.30959859432226583, 54.706062335574146)"
      ]
     },
     "execution_count": 16,
     "metadata": {},
     "output_type": "execute_result"
    },
    {
     "data": {
      "image/png": "[encoded data removed]",
      "text/plain": [
       "<Figure size 640x480 with 1 Axes>"
      ]
     },
     "metadata": {},
     "output_type": "display_data"
    }
   ],
   "source": [
    "fig = plt.figure()\n",
    "ax = fig.add_subplot(111)\n",
    "\n",
    "ax.scatter(a, P, c=a, cmap='plasma_r')\n",
    "for i,label in enumerate(names):\n",
    "    ax.annotate(label, xy=(a[i], P[i]))\n",
    "ax.set_xlabel(r'd [AU]')\n",
    "ax.set_ylabel('P [yr]')\n",
    "ax.semilogx()\n",
    "ax.semilogy()\n",
    "ax.set_xlim(ax.get_xlim()[0], ax.get_xlim()[1]*1.1)"
   ]
  },
  {
   "cell_type": "code",
   "execution_count": null,
   "id": "01f9e8fe-14e3-443e-83bd-43025ac9467c",
   "metadata": {},
   "outputs": [],
   "source": []
  }
 ],
 "metadata": {
  "kernelspec": {
   "display_name": "Python 3 (ipykernel)",
   "language": "python",
   "name": "python3"
  },
  "language_info": {
   "codemirror_mode": {
    "name": "ipython",
    "version": 3
   },
   "file_extension": ".py",
   "mimetype": "text/x-python",
   "name": "python",
   "nbconvert_exporter": "python",
   "pygments_lexer": "ipython3",
   "version": "3.9.16"
  }
 },
 "nbformat": 4,
 "nbformat_minor": 5
}
