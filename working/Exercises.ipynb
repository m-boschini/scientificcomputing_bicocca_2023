{
 "cells": [
  {
   "cell_type": "markdown",
   "id": "6d9764ff-dc98-49a1-b921-2b9db926d5b1",
   "metadata": {},
   "source": [
    "# Scientific Computing\n",
    "## Exercises - Matteo Boschini"
   ]
  },
  {
   "cell_type": "code",
   "execution_count": 7,
   "id": "10181d6f-5f9a-42ec-9742-0a958d3ef34c",
   "metadata": {},
   "outputs": [],
   "source": [
    "import numpy as np\n",
    "import matplotlib.pyplot as plt\n",
    "from tqdm.notebook import tqdm\n",
    "\n",
    "plt.rcParams.update({\n",
    "    \"text.usetex\": True,\n",
    "    \"font.family\": \"Latin Modern Roman\"\n",
    "})\n",
    "%config InlineBackend.figure_format='retina'"
   ]
  },
  {
   "cell_type": "markdown",
   "id": "47980ae8-cff1-407c-b7ba-7d3f66ce69b7",
   "metadata": {},
   "source": [
    "## L01 - python basics"
   ]
  },
  {
   "cell_type": "markdown",
   "id": "05a7de57-2b0d-44c0-bd44-9f90b9792cb6",
   "metadata": {
    "jp-MarkdownHeadingCollapsed": true
   },
   "source": [
    "### Q7/Q10: Tic - Tac - Toe"
   ]
  },
  {
   "cell_type": "code",
   "execution_count": 1,
   "id": "674b4c0c",
   "metadata": {},
   "outputs": [],
   "source": [
    "from IPython.display import clear_output\n",
    "from IPython import get_ipython\n",
    "import sys"
   ]
  },
  {
   "cell_type": "code",
   "execution_count": 2,
   "id": "bc4d93f2-226c-47ae-bda1-ab89da4d8689",
   "metadata": {},
   "outputs": [],
   "source": [
    "class TicTacToe:\n",
    "    \"\"\"Tic-Tac-Toe class. This class incorporates all the functions \n",
    "    to play the famous tic-tac-toe game between two players\"\"\"\n",
    "\n",
    "    def __init__(self):\n",
    "        \"\"\"Class constructor. Initialize the basic elements\"\"\"\n",
    "           \n",
    "        self.move = {f's{i}':\"\" for i in range(1,10)}\n",
    "        self.board = \"\"\"\n",
    " {s1:^3} | {s2:^3} | {s3:^3}       1   2   3\n",
    "-----+-----+-----\n",
    " {s4:^3} | {s5:^3} | {s6:^3}       4   5   6\n",
    "-----+-----+-----      \n",
    " {s7:^3} | {s8:^3} | {s9:^3}       7   8   9       \n",
    "                         \n",
    "\"\"\"\n",
    "        self.wins = {'Player 1':0, 'Player 2':0, 'Draw':0}\n",
    "        self.env = self.check_running_env()\n",
    "\n",
    "\n",
    "    def check_running_env(self):\n",
    "        \"\"\"Check if the code is running in a Jupyter notebook or in a terminal\"\"\"\n",
    "        try:\n",
    "            if get_ipython().__class__.__name__ == 'ZMQInteractiveShell':\n",
    "                return 'notebook'\n",
    "            else:\n",
    "                return 'terminal'\n",
    "        except NameError:\n",
    "            return 'terminal'\n",
    "        \n",
    "        \n",
    "    def reset_board(self):\n",
    "        \"\"\"Reset the board keeping the scoring\"\"\"\n",
    "        self.move = {f's{i}':\"\" for i in range(1,10)}\n",
    "        self.board = \"\"\"\n",
    " {s1:^3} | {s2:^3} | {s3:^3}       1   2   3\n",
    "-----+-----+-----\n",
    " {s4:^3} | {s5:^3} | {s6:^3}       4   5   6\n",
    "-----+-----+-----      \n",
    " {s7:^3} | {s8:^3} | {s9:^3}       7   8   9       \n",
    "                         \n",
    "\"\"\"\n",
    "\n",
    "        \n",
    "    def show_board(self):\n",
    "        \"\"\"Display the current state of the board\"\"\"\n",
    "        if self.env == 'notebook':\n",
    "            clear_output()\n",
    "            print(\"\"\"\\n \n",
    "        *******************\n",
    "        *\\033[1m Tic - Tac - Toe \\033[0m*\n",
    "        *******************\n",
    "        \\n\"\"\" + self.board.format(**self.move))\n",
    "        \n",
    "        elif self.env == 'terminal':\n",
    "            text = '''\\033[H\\033[J\\n \n",
    "            *******************\n",
    "            *\\033[1m Tic - Tac - Toe \\033[0m*\n",
    "            *******************\\n\n",
    "            ''' + self.board.format(**self.move)\n",
    "            sys.stdout.write(text)\n",
    "            sys.stdout.flush()\n",
    "\n",
    "\n",
    "    def get_move(self, n, XO):\n",
    "        \"\"\"Ask the current player, n, to make a move -- make sure the square was not \n",
    "        already played.  XO is a string of the character (X or O) we will place in\n",
    "        the desired square \"\"\"\n",
    "        valid_move = False\n",
    "        while not valid_move:\n",
    "            move = input(f'Player {n}, enter your move (1-9) (or q to quit): ')\n",
    "            if 'q' in move:\n",
    "                raise KeyboardInterrupt\n",
    "            try: \n",
    "                if int(move) in range(1, 10) and self.move[f's{move}'] == \"\":\n",
    "                    valid_move = True\n",
    "                else:\n",
    "                    print(f'Invalid move: {self.move[f\"s{move}\"]}')\n",
    "            except ValueError:\n",
    "                print('Please, enter a valid move')\n",
    "              \n",
    "        self.move[f's{move}'] = XO\n",
    "\n",
    "\n",
    "    def check_winner(self):\n",
    "        \"\"\"Check for winning conditions. This function checks the board looking for three identical symbols\n",
    "        on the same row, column or diagonal\"\"\"\n",
    "        win = False\n",
    "        winner = None\n",
    "        symb2player = lambda s : 1 if(s == 'X') else 2\n",
    "        for i in [1, 2, 3]:\n",
    "            if self.move[f's{i}'] == self.move[f's{i+3}'] == self.move[f's{i+6}'] != '':\n",
    "                win = True\n",
    "                winner = symb2player(self.move[f's{i}'])\n",
    "                \n",
    "        for i in [1, 4, 7]:\n",
    "            if self.move[f's{i}'] == self.move[f's{i+1}'] == self.move[f's{i+2}'] != '':\n",
    "                win = True\n",
    "                winner = symb2player(self.move[f's{i}'])\n",
    "                \n",
    "        if self.move[f's{1}'] == self.move[f's{5}'] == self.move[f's{9}'] != '':\n",
    "                win = True\n",
    "                winner = symb2player(self.move[f's{5}'])\n",
    "            \n",
    "        if self.move[f's{3}'] == self.move[f's{5}'] == self.move[f's{7}'] != '':\n",
    "                win = True\n",
    "                winner = symb2player(self.move[f's{5}'])\n",
    "            \n",
    "        return win, winner     \n",
    "\n",
    "\n",
    "    def play_a_game(self):\n",
    "        \"\"\"Play a single game of tic-tac-toe \"\"\"\n",
    "        rand_start = input('Start the game with a random player (y/n): ')\n",
    "        if 'y' in rand_start:\n",
    "            player = {1,2}.pop()\n",
    "        else:\n",
    "            player = input('Insert starting player (1 or 2): ')\n",
    "            if player not in ['1', '2']: \n",
    "                player = input('Please insert a valid starting player (1 or 2): ')\n",
    "\n",
    "        self.show_board()\n",
    "    \n",
    "        while '' in self.move.values():\n",
    "            if player == 1: XO = 'X'\n",
    "            else: XO = 'O'\n",
    "            try:\n",
    "                self.get_move(player, XO)\n",
    "            except KeyboardInterrupt:\n",
    "                break\n",
    "            self.show_board()\n",
    "            player = ({1,2} - {player}).pop()\n",
    "            win, winner = self.check_winner()\n",
    "            if win:\n",
    "                self.wins[f'Player {winner}'] += 1\n",
    "                print(f'Congrats player {winner}, you are the winner!')\n",
    "                return winner\n",
    "            \n",
    "        self.wins['Draw'] += 1\n",
    "        print('Draw')\n",
    "        \n",
    "\n",
    "    def score(self):\n",
    "        \"\"\"Display the current score\"\"\"\n",
    "        print(f\"\"\"\n",
    "----------------------\n",
    "Player 1 | {self.wins['Player 1']}\n",
    "----------------------\n",
    "Player 2 | {self.wins['Player 2']}\n",
    "----------------------\n",
    "Draw     | {self.wins['Draw']}\n",
    "----------------------\n",
    "\"\"\")\n",
    "        \n",
    "\n",
    "    def play(self):\n",
    "        \"\"\"Play Tic - Tac - Toe\"\"\"\n",
    "        \n",
    "        print(\"\"\"\\n \n",
    "        *******************\n",
    "        *\\033[1m Tic - Tac - Toe \\033[0m*\n",
    "        *******************\n",
    "        \\n\"\"\")\n",
    "\n",
    "        want2play = True\n",
    "\n",
    "        while want2play:\n",
    "            game = self.play_a_game()\n",
    "            self.reset_board()\n",
    "            \n",
    "            if input('See score (y/n)? ') == 'y':\n",
    "                self.score()\n",
    "            \n",
    "            if input('Play again (y/n)? ') == 'n':\n",
    "                want2play = False\n",
    "                \n",
    "        print('\\n\\n\\033[1mFinal score \\033[0m')\n",
    "        self.score()\n",
    "            "
   ]
  },
  {
   "cell_type": "code",
   "execution_count": null,
   "id": "28d39ec4-389b-4e8c-9160-f58ec570a7da",
   "metadata": {},
   "outputs": [],
   "source": [
    "game = TicTacToe()\n",
    "game.play()"
   ]
  },
  {
   "cell_type": "markdown",
   "id": "51013053-b297-4a1f-9534-30f73550c599",
   "metadata": {
    "jp-MarkdownHeadingCollapsed": true
   },
   "source": [
    "### Q9: Poker odds"
   ]
  },
  {
   "cell_type": "code",
   "execution_count": 23,
   "id": "72d71f5f-2a7f-4f5e-a3cb-4d3fe5ffb67a",
   "metadata": {},
   "outputs": [],
   "source": [
    "from deckOfCards import *\n",
    "from scipy.special import binom\n",
    "\n",
    "def checkPoints(hands):\n",
    "    \"\"\"Check for points in a hand of cards. \n",
    "    Possible points: pair, two pair, three of a kind (trips), straight, flush, full house, four of a kind (quads), straight flush, royal flush\n",
    "    Suits = spade (1), heart (2), diamond (3), club (4)\n",
    "    \"\"\"\n",
    "    points = {'high card': 0, 'pair':0, 'two pair':0, 'three of a kind':0, 'straight':0, 'flush':0, 'full house':0, \n",
    "              'four of a kind':0, 'straight flush':0, 'royal flush':0}\n",
    "    \n",
    "    for hand in hands:\n",
    "        ranks = [card.rank for card in hand]\n",
    "        suits = [card.suit for card in hand]\n",
    "    \n",
    "        rank_counts = {f'{val}':ranks.count(val) for val in list(set(ranks))}\n",
    "        suit_counts = {f'{val}':suits.count(val) for val in list(set(suits))}\n",
    "\n",
    "        if 5 in suit_counts.values():\n",
    "            if sorted(ranks) == [10,11,12,13,14]:\n",
    "                points['royal flush'] += 1\n",
    "            elif sorted(ranks)[-1] == sorted(ranks)[0]+4 or sorted(ranks) == [2,3,4,5,14]:\n",
    "                points['straight flush'] += 1\n",
    "            else:\n",
    "                points['flush'] += 1\n",
    "\n",
    "        elif sorted(ranks - np.min(ranks)) == [0,1,2,3,4] or sorted(ranks) == [2,3,4,5,14]:\n",
    "            points['straight'] += 1\n",
    "\n",
    "        elif 4 in rank_counts.values():\n",
    "            points['four of a kind'] += 1\n",
    "        elif 3 in rank_counts.values():\n",
    "            if 2 in rank_counts.values():\n",
    "                points['full house'] += 1\n",
    "            else:\n",
    "                points['three of a kind'] += 1\n",
    "        elif 2 in rank_counts.values():\n",
    "            if list(rank_counts.values()).count(2) == 2:\n",
    "                points['two pair'] += 1\n",
    "            else:\n",
    "                points['pair'] += 1\n",
    "        else:\n",
    "            points['high card'] += 1\n",
    "            \n",
    "    return points"
   ]
  },
  {
   "cell_type": "code",
   "execution_count": 24,
   "id": "c1e04091-8dc4-4aa8-9329-8bde7a89d614",
   "metadata": {},
   "outputs": [],
   "source": [
    "manyHands = []\n",
    "\n",
    "for i in range(500000):\n",
    "    mydeck = Deck()\n",
    "    mydeck.shuffle()\n",
    "    manyHands += [mydeck.get_cards(5)]\n",
    "\n",
    "points = checkPoints(manyHands)"
   ]
  },
  {
   "cell_type": "code",
   "execution_count": 25,
   "id": "4d543923-4fa5-4325-aa7b-961a6c3f5a42",
   "metadata": {},
   "outputs": [],
   "source": [
    "tot = binom(52, 5)\n",
    "true_prob = {\n",
    "    'high card': (binom(13,5) - binom(10,1))*(binom(4,1)**5 - binom(4,1))/tot,\n",
    "    'pair':binom(13,1)*binom(4,2)*binom(12,3)*binom(4,1)**3/tot, \n",
    "    'two pair':binom(13,2)*binom(4,2)**2*binom(11,1)*binom(4,1)/tot, \n",
    "    'three of a kind':binom(13,1)*binom(4,3)*binom(12,2)*binom(4,1)**2/tot, \n",
    "    'straight':binom(10,1)*binom(4,1)*(binom(4,1)**4 - 1)/tot, \n",
    "    'flush':binom(4,1)*(binom(13,5) - binom(10,1))/tot, \n",
    "    'full house':binom(13,1)*binom(4,3)*binom(12,1)*binom(4,2)/tot, \n",
    "    'four of a kind':binom(13,1)*binom(4,4)*binom(12,1)*binom(4,1)/tot,\n",
    "    'straight flush':binom(4,1)*(binom(10,1) - 1)/tot, \n",
    "    'royal flush':binom(4,1)/tot    \n",
    "}"
   ]
  },
  {
   "cell_type": "code",
   "execution_count": null,
   "id": "5f15a5c9-bdb1-4fbc-b074-32f0dd1fbc5d",
   "metadata": {},
   "outputs": [],
   "source": [
    "fig = plt.figure(figsize=(10,5))\n",
    "ax = fig.add_subplot(111)\n",
    "\n",
    "x = np.linspace(1,len(points.keys())+1, len(points.keys()))\n",
    "plot = ax.bar(x, [n/len(manyHands) for n in list(points.values())], color='lightblue', log=True, \\\n",
    "              width=0.85, label='simulated')\n",
    "ax.hlines(true_prob.values(), x-0.425, x+0.425, color='C3', label='true')\n",
    "for i, val in enumerate(true_prob.values()):\n",
    "    ax.annotate('{:1.2e}'.format(val), (x[i]-0.4, 1.1*val), color='C3')\n",
    "ax.set_xticks(np.linspace(1,len(points.keys())+1, len(points.keys())), [x for x in list(points.keys())])\n",
    "ax.tick_params(axis='x', labelrotation=45)\n",
    "ax.set_ylabel('log(P)')\n",
    "ax.legend()"
   ]
  },
  {
   "cell_type": "markdown",
   "id": "c3f0d9d8-abf5-487d-b6bc-4ff20c3168ed",
   "metadata": {},
   "source": [
    "## L02 - Numpy"
   ]
  },
  {
   "cell_type": "markdown",
   "id": "1b9285a6-c72c-405e-88ad-35adcd9e0f54",
   "metadata": {
    "jp-MarkdownHeadingCollapsed": true
   },
   "source": [
    "### Q3: Are you faster than numpy?"
   ]
  },
  {
   "cell_type": "markdown",
   "id": "40843a62-5d86-4cdf-89c0-6a4567b7cff6",
   "metadata": {},
   "source": [
    "Numpy of course has a standard deviation function, `np.std()`, but here we'll write our own that works on a 1-d array (vector).  The standard\n",
    "deviation is a measure of the \"width\" of the distribution of numbers\n",
    "in the vector.\n",
    "\n",
    "Given an array, $a$, and an average $\\bar{a}$, the standard deviation\n",
    "is:\n",
    "$$\n",
    "\\sigma = \\left [ \\frac{1}{N} \\sum_{i=1}^N (a_i - \\bar{a})^2 \\right ]^{1/2}\n",
    "$$\n",
    "\n",
    "Write a function to calculate the standard deviation for an input array, `a`:\n",
    "\n",
    "  * First compute the average of the elements in `a` to define $\\bar{a}$\n",
    "  * Next compute the sum over the squares of $a - \\bar{a}$\n",
    "  * Then divide the sum by the number of elements in the array\n",
    "  * Finally take the square root (you can use `np.sqrt()`)\n",
    "  \n",
    "Test your function on a random array, and compare to the built-in `np.std()`. Check the runtime as well."
   ]
  },
  {
   "cell_type": "code",
   "execution_count": 27,
   "id": "b79600de-9b03-4537-bd75-ce354790c9bd",
   "metadata": {},
   "outputs": [],
   "source": [
    "def mean(a):\n",
    "    sum = 0\n",
    "    for el in a:\n",
    "        sum += el\n",
    "    return sum/a.shape[0]\n",
    "\n",
    "def std(a):\n",
    "    a_mean = mean(a)\n",
    "    sq_sum = 0\n",
    "    for el in a:\n",
    "        sq_sum += (el-a_mean)**2\n",
    "    return (sq_sum/a.shape[0])**(1/2)"
   ]
  },
  {
   "cell_type": "code",
   "execution_count": null,
   "id": "b83028a4-5430-4423-b0f1-845733cdd715",
   "metadata": {},
   "outputs": [],
   "source": [
    "import time\n",
    "\n",
    "n_points = np.logspace(1, 6, 20, dtype=int)\n",
    "trials = 10\n",
    "time_matteo, time_numpy = [], []\n",
    "for n in tqdm(n_points):\n",
    "    tmp_matteo, tmp_numpy = [], []\n",
    "    for i in range(trials):\n",
    "        t = np.random.random(n)\n",
    "        \n",
    "        start = time.time()\n",
    "        #std_matteo = std(t)\n",
    "        std(t)\n",
    "        tmp_matteo += [time.time()-start]\n",
    "        \n",
    "        start = time.time()\n",
    "        #std_numpy = np.std(t)\n",
    "        np.std(t)\n",
    "        tmp_numpy += [time.time()-start]\n",
    "    time_matteo += [np.mean(tmp_matteo)]\n",
    "    time_numpy += [np.mean(tmp_numpy)]"
   ]
  },
  {
   "cell_type": "code",
   "execution_count": null,
   "id": "541334ad-ed9f-44f9-891f-3a6e9aa92c60",
   "metadata": {},
   "outputs": [],
   "source": [
    "fig = plt.figure()\n",
    "ax = fig.add_subplot(111)\n",
    "ax.plot(n_points, time_matteo, label='Matteo')\n",
    "ax.plot(n_points, time_numpy, label='Numpy')\n",
    "ax.set_xlabel('n points')\n",
    "ax.set_ylabel('t [s]')\n",
    "ax.semilogx()\n",
    "ax.semilogy()\n",
    "plt.legend()"
   ]
  },
  {
   "cell_type": "markdown",
   "id": "33f8ef05-d75f-4f8e-b38c-e47f4299fea2",
   "metadata": {
    "jp-MarkdownHeadingCollapsed": true
   },
   "source": [
    "### Q6: Conway's Game of Life"
   ]
  },
  {
   "cell_type": "markdown",
   "id": "a1befb24-de0f-4509-bc98-5f80f93d4b18",
   "metadata": {},
   "source": [
    "**Exercise**: Code up Conway's Game of Life using numpy \n",
    "\n",
    "The Game of Life is a cellular automaton devised by mathematician John Horton Conway in 1970. It is a zero-player game, meaning that its evolution is determined by its initial state, requiring no further input. One interacts with the Game of Life by creating an initial configuration and observing how it evolves. It is Turing complete and can simulate a universal constructor or any other Turing machine.\n",
    "\n",
    "https://en.wikipedia.org/wiki/Conway%27s_Game_of_Life\n",
    "\n",
    "The Game of Life is *really* (really, really) cool. There are just four extremely simple rules, and these result in an immense richness of behaviour and complexity.\n",
    "\n",
    "https://www.youtube.com/watch?v=C2vgICfQawE&t=221s&ab_channel=RationalAnimations\n",
    "\n",
    "https://www.youtube.com/watch?v=jvSp6VHt_Pc&ab_channel=TheDevDoctor\n",
    "\n",
    "Here some web apps to play:\n",
    "\n",
    "https://conwaylife.com/\n",
    "\n",
    "https://playgameoflife.com/\n",
    "\n",
    "Some computational hints:\n",
    "\n",
    "https://blog.datawrapper.de/game-of-life/\n",
    "\n",
    "For instance, here is a Game-of-Life structure that sends a message at fixed intervals (that little spaceship leaving toward the bottom right)\n",
    "\n",
    "![](https://blog.datawrapper.de/wp-content/uploads/2021/06/game-of-life-loop-cropped.gif)\n"
   ]
  },
  {
   "cell_type": "code",
   "execution_count": 2,
   "id": "4c454312-ce70-4c5b-9bcb-f7eb049c72aa",
   "metadata": {},
   "outputs": [],
   "source": [
    "import matplotlib.animation as animation\n",
    "from functools import partial\n",
    "from IPython.display import HTML"
   ]
  },
  {
   "cell_type": "code",
   "execution_count": 117,
   "id": "34e6e451-e285-4904-849c-5a366ece04b2",
   "metadata": {},
   "outputs": [],
   "source": [
    "class game_of_life:\n",
    "    r\"\"\"Play Game of Life\"\"\"\n",
    "\n",
    "    def __init__(self, size, initstate, epochs):\n",
    "        self.size = size\n",
    "        self.grid = initstate\n",
    "        self.epochs = epochs\n",
    "        \n",
    "\n",
    "    def find_neighbours(self):\n",
    "        neighbours = []\n",
    "        Xs, Ys = np.meshgrid(np.arange(0, self.size[0]), np.arange(0, self.size[1]))\n",
    "        for x, y in zip(Xs.flatten(), Ys.flatten()):\n",
    "                xs = x+np.array([-1,0,1])\n",
    "                ys = y+np.array([-1,0,1])\n",
    "                X_, Y_ = np.meshgrid(xs[(xs>=0) & (xs<self.size[0])], ys[(ys>=0) & (ys<self.size[1])])\n",
    "                neighbours += [[[x_, y_] for x_,y_ in zip(X_.flatten(), Y_.flatten()) if [x_,y_]!=[x,y]]]\n",
    "        self.neighbours = neighbours\n",
    "    \n",
    "    \n",
    "    def next_gen(self, frame, ax, art):\n",
    "        next_state = self.grid.copy()\n",
    "        Xs, Ys = np.meshgrid(np.arange(0, self.size[0]), np.arange(0, self.size[1]))\n",
    "        for x, y in zip(Xs.flatten(), Ys.flatten()):\n",
    "            n_neighbours = np.sum([self.grid[el[0], el[1]]for el in self.neighbours[x+y*self.size[0]]])\n",
    "            if self.grid[x,y] == 1:\n",
    "                if n_neighbours < 2 or n_neighbours > 3:\n",
    "                    next_state[x,y] = 0\n",
    "            else:\n",
    "                if n_neighbours == 3:\n",
    "                    next_state[x,y] = 1   \n",
    "        self.grid = next_state\n",
    "        art = ax.matshow(self.grid, animated=True, cmap='Greys')\n",
    "        return art\n",
    "    \n",
    "    \n",
    "    def set_image_features(self, ax):\n",
    "        ax.set_xticks(np.arange(-.5, self.size[1], 1), minor=True)\n",
    "        ax.set_yticks(np.arange(-.5, self.size[0], 1), minor=True)\n",
    "        ax.grid(which='minor', color='silver', linestyle='-', linewidth=0.5)\n",
    "        ax.tick_params(which='both', axis='both', length=0, \\\n",
    "            labelbottom=False, labelleft=False, labeltop=False)\n",
    "        ax.spines['top'].set_color('silver') \n",
    "        ax.spines['right'].set_color('silver') \n",
    "        ax.spines['bottom'].set_color('silver') \n",
    "        ax.spines['left'].set_color('silver') \n",
    "        plt.show()\n",
    "        \n",
    "    \n",
    "    def play(self):\n",
    "        self.find_neighbours()\n",
    "        \n",
    "        fig = plt.figure(figsize=(5,5*self.size[0]/self.size[1]))\n",
    "        fig.tight_layout()\n",
    "        ax = fig.add_subplot(111)\n",
    "    \n",
    "        showstate = ax.matshow(self.grid, animated=True, cmap='Greys')\n",
    "        \n",
    "        anim = animation.FuncAnimation(fig=fig, func=partial(self.next_gen, ax=ax, art=showstate), \\\n",
    "                                       frames=self.epochs, blit=True)\n",
    "        self.set_image_features(ax)\n",
    "        \n",
    "        return anim   "
   ]
  },
  {
   "cell_type": "code",
   "execution_count": 120,
   "id": "529b8488-574e-411f-b252-cf35f7cad074",
   "metadata": {},
   "outputs": [],
   "source": [
    "size = (40,40)\n",
    "init = np.random.choice([0,1], size=size, p=(0.7, 0.3))"
   ]
  },
  {
   "cell_type": "code",
   "execution_count": null,
   "id": "a06e0fdb-7385-4ae9-9982-56cc1fd6f446",
   "metadata": {},
   "outputs": [],
   "source": [
    "%matplotlib notebook\n",
    "\n",
    "GoL = game_of_life(size, init, 40)\n",
    "anim = GoL.play()\n",
    "HTML(anim.to_jshtml())"
   ]
  },
  {
   "cell_type": "code",
   "execution_count": 122,
   "id": "7fd3ddc9",
   "metadata": {},
   "outputs": [],
   "source": [
    "%matplotlib inline"
   ]
  },
  {
   "cell_type": "markdown",
   "id": "824ae000-7425-4917-ab61-22ea36b884e2",
   "metadata": {},
   "source": [
    "## L03 - Matplotlib"
   ]
  },
  {
   "cell_type": "markdown",
   "id": "51600077-82f1-4710-8989-6ea4353d7bc5",
   "metadata": {
    "jp-MarkdownHeadingCollapsed": true
   },
   "source": [
    "### Q6: frequent words plotting"
   ]
  },
  {
   "cell_type": "markdown",
   "id": "ca0f86e7-a239-45c3-b575-040853765bb0",
   "metadata": {},
   "source": [
    "In this exercise, we will read the file with the transcription of _Star Trek TOS, Shore Leave_ and calculate the amount of time each word was found. We will then plot the 25 most frequent words and label the plot.\n",
    "\n",
    "#### Read the file and create the dictionaty {'word':count}\n",
    "\n",
    "   * Open the `shore_leave.txt`\n",
    "   * Create the dictionary of the form {'word':count}, where `count` shows the amount of times the word was found in the text. Remember to get rid of the punctuation (\".\" and \",\") and to ensure that all words are lowercase"
   ]
  },
  {
   "cell_type": "code",
   "execution_count": 45,
   "id": "8e67fa8b-bc9c-4776-b0e4-66b87afe0116",
   "metadata": {},
   "outputs": [],
   "source": [
    "f = open(\"shore_leave.txt\", \"r\")\n",
    "text = [word.strip('.,!?:;-_()').lower() for word in f.read().split()]\n",
    "unique = set(text)\n",
    "words = {s:text.count(s) for s in unique}\n",
    "sorted_words = [s for s,n in sorted(words.items(), key = lambda x : x[1], reverse=True)]"
   ]
  },
  {
   "cell_type": "code",
   "execution_count": null,
   "id": "9accc7d3-cd99-4717-883c-1015ff4610c5",
   "metadata": {},
   "outputs": [],
   "source": [
    "num_words = 25\n",
    "\n",
    "fig = plt.figure(figsize=(12,5))\n",
    "ax = fig.add_subplot(111)\n",
    "\n",
    "ax.bar(np.linspace(1,num_words+1, num_words), [words[x] for x in sorted_words[:num_words]])\n",
    "ax.set_xticks(np.linspace(1,num_words+1, num_words), [x for x in sorted_words[:num_words]], rotation=45)\n",
    "ax.set_ylabel('counts')\n",
    "ax.tick_params(axis='both', top=True, right=True, direction='inout')\n",
    "ax.set_xlim(0, num_words+2)"
   ]
  },
  {
   "cell_type": "markdown",
   "id": "b560aae3-f146-4717-94d0-4e5779100e68",
   "metadata": {
    "jp-MarkdownHeadingCollapsed": true
   },
   "source": [
    "### Q8: Game of Life visualization"
   ]
  },
  {
   "cell_type": "markdown",
   "id": "de6df2b0-72ea-4f86-85df-78ce5e1273b2",
   "metadata": {
    "jp-MarkdownHeadingCollapsed": true
   },
   "source": [
    "If you've implemented Conway's Game of Life from last lecture, make a visualization of your result using matplotlib.\n",
    "\n",
    "See L02/Q6"
   ]
  },
  {
   "cell_type": "markdown",
   "id": "8c803347-b435-45e9-8345-cdc1b0a228e0",
   "metadata": {},
   "source": [
    "## L04 - Scipy"
   ]
  },
  {
   "cell_type": "markdown",
   "id": "542b8283-4b0b-4336-b458-c56120c321aa",
   "metadata": {},
   "source": [
    "### Q2: Interpolation error"
   ]
  },
  {
   "cell_type": "markdown",
   "id": "e5c08a64-6920-4f90-8b87-e44bb59f7daf",
   "metadata": {},
   "source": [
    "There are a large number of different interpolation schemes available through scipy.  Let's test them out.\n",
    "\n",
    "Create a python function, $f(x)$, that is your true function (make it complicated!).  Now create $N$ samples of it (either regularly spaced or irregularly spaced).\n",
    "\n",
    "Try some of the different interpolation routines.  `interpolate.interp1d` takes a `kind` argument that let's you choose the order of the interpolation.  Measure the error in the method, by comparing the interpolated result with the actual function value.  \n",
    "\n",
    "Then do the same cubic splines (look at `CubicSpline`)\n",
    "\n",
    "Plot the resulting interpolant."
   ]
  },
  {
   "cell_type": "code",
   "execution_count": 47,
   "id": "9f9d4144-d6ee-4197-9970-3bfaee730d18",
   "metadata": {},
   "outputs": [],
   "source": [
    "from scipy.interpolate import interp1d, CubicSpline\n",
    "from sklearn.gaussian_process import GaussianProcessRegressor\n",
    "\n",
    "def f(x):\n",
    "    return 10*np.abs(np.sin(x/3))*np.exp(-(x/5)**2) + (x/8)**2 + x/2"
   ]
  },
  {
   "cell_type": "code",
   "execution_count": null,
   "id": "60926e0c-b32d-43bb-923b-92787365a296",
   "metadata": {},
   "outputs": [],
   "source": [
    "x = np.linspace(-10,10,1000)\n",
    "x_samp = np.array(sorted(np.random.uniform(low=-10, high=10, size=25)))\n",
    "\n",
    "fig = plt.figure(figsize=(10,5))\n",
    "ax = fig.add_subplot(111)\n",
    "ax.plot(x, f(x))\n",
    "ax.scatter(x_samp, f(x_samp))\n",
    "\n",
    "ax.tick_params(axis='both', top=True, right=True, direction='inout')\n",
    "ax.set_xlabel('x')\n",
    "ax.set_ylabel('f(x)')"
   ]
  },
  {
   "cell_type": "code",
   "execution_count": 57,
   "id": "d1ef6a07-23d8-4005-82f9-1671c80788e1",
   "metadata": {},
   "outputs": [],
   "source": [
    "interp1 = interp1d(x_samp, f(x_samp), kind='nearest', fill_value='extrapolate')\n",
    "interp2 = interp1d(x_samp, f(x_samp), kind='linear', fill_value='extrapolate')\n",
    "interp3 = interp1d(x_samp, f(x_samp), kind='quadratic', fill_value='extrapolate')\n",
    "interp4 = CubicSpline(x_samp, f(x_samp))\n",
    "interp5 = GaussianProcessRegressor().fit(x_samp[:,np.newaxis], f(x_samp[:,np.newaxis]))\n",
    "\n",
    "interp = {'nearest':interp1, 'linear':interp2, 'quadratic':interp3, 'cubic':interp4, 'gpr':interp5}"
   ]
  },
  {
   "cell_type": "code",
   "execution_count": 58,
   "id": "572e2689-fe94-447e-912a-b629f638d28b",
   "metadata": {},
   "outputs": [],
   "source": [
    "RMSE = {'nearest':0, 'linear':0, 'quadratic':0, 'cubic':0, 'gpr':0}\n",
    "\n",
    "for method in RMSE.keys():\n",
    "    if method == 'gpr':\n",
    "        RMSE[method] = np.sqrt(np.mean((f(x) - interp[method].predict(x[:,np.newaxis]))**2))\n",
    "    else:\n",
    "        RMSE[method] = np.sqrt(np.mean((f(x) - interp[method](x))**2))"
   ]
  },
  {
   "cell_type": "code",
   "execution_count": null,
   "id": "d7c9432c-8b17-46b1-ad0f-602fe9118123",
   "metadata": {},
   "outputs": [],
   "source": [
    "fig = plt.figure(figsize=(12,8))\n",
    "axs = fig.subplots(2,1, sharex=True)\n",
    "fig.subplots_adjust(hspace=0)\n",
    "\n",
    "axs[0].plot(x, f(x), color='k', linewidth=2, linestyle='--', zorder=9, label=r'$f(x)$')\n",
    "for method in interp.keys():\n",
    "    if method == 'gpr':\n",
    "        axs[0].plot(x, interp[method].predict(x[:,np.newaxis]), linewidth=1, label=method)\n",
    "    else:\n",
    "        axs[0].plot(x, interp[method](x), linewidth=1, label=method)\n",
    "axs[0].scatter(x_samp, f(x_samp), c='deeppink', zorder=10, label='fitted points')\n",
    "axs[0].legend()\n",
    "axs[0].set_ylim(axs[0].get_ylim()[0]*0.99, axs[0].get_ylim()[1])\n",
    "axs[0].tick_params(axis='both', top=True, right=True, direction='inout')\n",
    "axs[0].set_ylabel('f(x)')\n",
    "\n",
    "for method in interp.keys():\n",
    "    if method == 'gpr':\n",
    "        axs[1].plot(x, f(x) - interp[method].predict(x[:,np.newaxis]), linewidth=1, label=f'{method} ({RMSE[method]:.3f})')\n",
    "    else:\n",
    "        axs[1].plot(x, f(x) - interp[method](x), linewidth=1, label=f'{method} ({RMSE[method]:.3f})')\n",
    "\n",
    "leg1 = axs[1].legend(title=r'method (RMSE)')\n",
    "axs[1].set_ylim(axs[1].get_ylim()[0], axs[1].get_ylim()[1]*1.2) \n",
    "axs[1].tick_params(axis='both', top=True, right=True, direction='inout')\n",
    "axs[0].set_xlabel('x')\n",
    "axs[1].set_ylabel(r'$f(x) - f_{interp}(x)$')"
   ]
  },
  {
   "cell_type": "markdown",
   "id": "c60d29b4-52ca-423b-9e2b-7e0cd2986e73",
   "metadata": {},
   "source": [
    "### Q7: Noisy signal"
   ]
  },
  {
   "cell_type": "markdown",
   "id": "e481bdf3",
   "metadata": {},
   "source": [
    "A convolution is defined as:  \n",
    "\n",
    "  \\begin{equation}                                                                           \n",
    "    (f \\star g)(t) \\equiv \\int_{-\\infty}^{\\infty} f(\\tau) g(t - \\tau) d\\tau                   \n",
    "  \\end{equation}                                                                             \n",
    "\n",
    "  It is easy to compute this with FFTs, via the _convolution theorem_,\n",
    "                                                                          \n",
    "  \\begin{equation}                                         \n",
    "    \\mathcal{F}\\{f \\star g\\} = \\mathcal{F}\\{f\\} \\, \\mathcal{F}\\{g\\}                                          \n",
    "  \\end{equation}    \n",
    "                                       \n",
    "  That is: the Fourier transform of the convolution of $f$ and $g$ is simply\n",
    "  the product of the individual transforms of $f$ and $g$.  This allows us\n",
    "  to compute the convolution via multiplication in Fourier space and then take\n",
    "  the inverse transform, $\\mathcal{F}^{-1}\\{\\}$, to recover the convolution in real space:\n",
    "  \n",
    "  \\begin{equation}\n",
    "  f \\star g = \\mathcal{F}^{-1}\\{ \\mathcal{F}\\{f\\} \\, \\mathcal{F}\\{g\\}\\}\n",
    "  \\end{equation}\n",
    "  \n",
    "A common use of a convolution is to smooth noisy data, for example by convolving noisy data with a Gaussian.  We'll do that here.\n",
    "\n",
    "Here's some noisy data we'll work with"
   ]
  },
  {
   "cell_type": "code",
   "execution_count": 62,
   "id": "3a1bb5d2",
   "metadata": {},
   "outputs": [],
   "source": [
    "from scipy.signal import convolve\n",
    "from scipy.signal.windows import gaussian"
   ]
  },
  {
   "cell_type": "code",
   "execution_count": 63,
   "id": "d1a00cb5",
   "metadata": {},
   "outputs": [],
   "source": [
    "def fdata(x, L):\n",
    "    A = L/10.0\n",
    "    return 2*np.sin(2*np.pi*x/L) + x*(L-x)**2/L**3 * np.cos(x) + \\\n",
    "           5*x*(L-x)/L**2 + A/2 + 0.1*A*np.sin(13*np.pi*x/L)\n",
    "\n",
    "N = 2048\n",
    "L = 50.0\n",
    "x = np.linspace(0, L, N, endpoint=False)\n",
    "orig = fdata(x, L)\n",
    "noisy = orig + 0.5*np.random.randn(N)"
   ]
  },
  {
   "cell_type": "code",
   "execution_count": null,
   "id": "a9982d1a",
   "metadata": {},
   "outputs": [],
   "source": [
    "fig = plt.figure(figsize=(6,5))\n",
    "ax = fig.add_subplot(111)\n",
    "\n",
    "ax.plot(x, noisy)\n",
    "ax.plot(x, orig)\n",
    "ax.set_xlabel('x')\n",
    "ax.set_ylabel('f(x)')"
   ]
  },
  {
   "cell_type": "markdown",
   "id": "9c34ec33",
   "metadata": {},
   "source": [
    "SciPy provides a convolution function `scipy.signal.convolve()` that can do the convolution for us directly.  To smooth the data, we want to use a Gaussian, which can be produced by `scipy.signal.gaussian()`.\n",
    "\n",
    "Convolve the noisy data with a Gaussian and plot the result together with the original data `orig`.  You'll need to play with the width of the Gaussian to get a nice smoothing.  You also will need to normalize the Gaussian so that it sums to 1, otherwise, your convolved data will be shifted verfically from the original function."
   ]
  },
  {
   "cell_type": "code",
   "execution_count": null,
   "id": "ff9721e4",
   "metadata": {},
   "outputs": [],
   "source": [
    "from scipy.optimize import minimize\n",
    "func = lambda std : np.sum((orig - convolve(noisy, 1/np.sqrt(2*np.pi*std**2)*gaussian(M=N, std=std, sym=True), \\\n",
    "                                            method='fft', mode='same'))**2)\n",
    "\n",
    "res = minimize(func, x0=20)\n",
    "print(res)"
   ]
  },
  {
   "cell_type": "code",
   "execution_count": 67,
   "id": "c50a9001",
   "metadata": {},
   "outputs": [],
   "source": [
    "std = res.x\n",
    "gauss = 1/np.sqrt(2*np.pi*std**2)*gaussian(M=N, std=std, sym=True)\n",
    "conv = convolve(noisy, gauss, method='fft', mode='same')"
   ]
  },
  {
   "cell_type": "code",
   "execution_count": null,
   "id": "d2804ca8",
   "metadata": {},
   "outputs": [],
   "source": [
    "fig = plt.figure(figsize=(6,5))\n",
    "ax = fig.add_subplot(111)\n",
    "\n",
    "ax.plot(x, conv)\n",
    "ax.plot(x, orig)\n",
    "ax.set_xlabel('x')\n",
    "ax.set_ylabel('f(x)')"
   ]
  },
  {
   "cell_type": "markdown",
   "id": "1a2f3699",
   "metadata": {},
   "source": [
    "## L05 - Mathematica"
   ]
  },
  {
   "cell_type": "markdown",
   "id": "b5614781",
   "metadata": {},
   "source": [
    "See the L05_Mathematica notebook"
   ]
  },
  {
   "cell_type": "markdown",
   "id": "e767a9cc",
   "metadata": {},
   "source": [
    "## L06 - Version control"
   ]
  },
  {
   "cell_type": "markdown",
   "id": "fe816fa0",
   "metadata": {},
   "source": [
    "### Q1: Your next research project"
   ]
  },
  {
   "cell_type": "markdown",
   "id": "ae08094b",
   "metadata": {},
   "source": [
    "Pick the directory of your current research project (your next paper!) and put it under version control.\n"
   ]
  },
  {
   "cell_type": "markdown",
   "id": "b8f37de9",
   "metadata": {},
   "source": [
    "You thought me to keep every project under version control.\n",
    "As an example, this is the link to the eccentricity project:    \n",
    "https://github.com/m-boschini/eccentriccatastrophes\n"
   ]
  },
  {
   "cell_type": "markdown",
   "id": "fa1c03de",
   "metadata": {},
   "source": [
    "### Q2: Egocentric"
   ]
  },
  {
   "cell_type": "markdown",
   "id": "cd82480a",
   "metadata": {},
   "source": [
    "Write a github action that lets you commit only if README.md contains your name."
   ]
  },
  {
   "cell_type": "raw",
   "id": "6c1796e1",
   "metadata": {
    "vscode": {
     "languageId": "raw"
    }
   },
   "source": [
    "name: Check README for Name\n",
    "\n",
    "on: [push, pull_request]\n",
    "\n",
    "jobs:\n",
    "    check-readme:\n",
    "        runs-on: ubuntu-latest\n",
    "\n",
    "        steps:\n",
    "        - name: Checkout repository\n",
    "          uses: actions/checkout@v4\n",
    "\n",
    "        - name: Check if README contains your name\n",
    "          id: check_readme\n",
    "          run: |\n",
    "              if ! grep -q \"Matteo Boschini\" README.md; then\n",
    "                  echo \"README does not contain your name!\"\n",
    "                  exit 1\n",
    "              fi\n",
    "\n",
    "        - name: Allow commit if README contains your name\n",
    "          if: steps.check_readme.outcome == 'success'\n",
    "          run: echo \"README contains your name. Commit allowed.\""
   ]
  },
  {
   "cell_type": "markdown",
   "id": "1eba47b6",
   "metadata": {},
   "source": [
    "## L07 - Numba & multiprocessing"
   ]
  },
  {
   "cell_type": "markdown",
   "id": "b7f592d9",
   "metadata": {},
   "source": [
    "### Q1: The stock market"
   ]
  },
  {
   "cell_type": "markdown",
   "id": "3a7ea6b8",
   "metadata": {},
   "source": [
    "(This is about numba)\n",
    "\n",
    "A Markov Chain is defined as a sequence of random variables where a parameter depends *only* on the preceding value. This is a crucial tool in statistics, widely used in science and beyond (economics for instance).\n",
    "\n",
    "For instance, the stock market has phases of growing prices (bull), dreasing prices (bear) and recession. This would be a Marov Chain model:\n",
    "\n",
    "![](https://upload.wikimedia.org/wikipedia/commons/thumb/9/95/Finance_Markov_chain_example_state_space.svg/400px-Finance_Markov_chain_example_state_space.svg.png)\n",
    "\n",
    "where the numbers on the arrows indicate the probabily that the next day will be in a given state.\n",
    "\n",
    "Your task is to simulate the stock market according to this rule. Start from a random state and simulate many many  iterations. If your code is right, the fraction of days in each state should converge. \n",
    "\n",
    "Implement a pure-python version and a numba version, and compare speeds. \n"
   ]
  },
  {
   "cell_type": "code",
   "execution_count": 5,
   "id": "7a47a8f2",
   "metadata": {},
   "outputs": [],
   "source": [
    "from numpy.random import choice\n",
    "from numba import njit\n",
    "import time"
   ]
  },
  {
   "cell_type": "code",
   "execution_count": null,
   "id": "5bcdd762",
   "metadata": {},
   "outputs": [],
   "source": [
    "prob_matrix = np.array(\n",
    "    [[0.8, 0.25, 0.075], # 1 -> 1, 2, 3\n",
    "     [0.05, 0.5, 0.025], # 2 -> 1, 2, 3\n",
    "     [0.15, 0.25, 0.9]]) # 3 -> 1, 2, 3\n",
    "\n",
    "eigenvals, eigenvec = np.linalg.eig(prob_matrix)\n",
    "probs = eigenvec[:,np.isclose(eigenvals,1)]/np.sum(eigenvec[:,np.isclose(eigenvals,1)], axis=0)\n",
    "probs\n"
   ]
  },
  {
   "cell_type": "code",
   "execution_count": 7,
   "id": "68e8c5ce",
   "metadata": {},
   "outputs": [],
   "source": [
    "#bear = 1, stagnant = 2, bull = 3\n",
    "\n",
    "def evolveMrkt(state, n):\n",
    "    mrkt_history = [state]\n",
    "    \n",
    "    for i in range(n):\n",
    "        if state == 1:\n",
    "            state = choice((1, 2, 3), p=(0.8, 0.05, 0.15))\n",
    "        elif state == 2:\n",
    "            state = choice((1, 2, 3), p=(0.25, 0.5, 0.25))\n",
    "        else:\n",
    "            state = choice((1, 2, 3), p=(0.075, 0.025, 0.9))\n",
    "        mrkt_history += [state]\n",
    "        \n",
    "    return mrkt_history\n",
    "\n",
    "@njit\n",
    "def evolveMrkt_fast(state, n):\n",
    "    mrkt_history = [state]\n",
    "    new_state = lambda x, p1, p2 : 1 if(x <= p1) else (2 if(x > (1-p2)) else 3) \n",
    "    \n",
    "    for i in range(n):\n",
    "        if state == 1:\n",
    "            state = new_state(np.random.random(), 0.8, 0.05)\n",
    "        elif state == 2:\n",
    "            state = new_state(np.random.random(), 0.25, 0.5)\n",
    "        else:\n",
    "            state = new_state(np.random.random(), 0.075, 0.025)\n",
    "        mrkt_history += [state]\n",
    "    return mrkt_history"
   ]
  },
  {
   "cell_type": "code",
   "execution_count": 8,
   "id": "3e90c50a",
   "metadata": {},
   "outputs": [],
   "source": [
    "N = np.logspace(1, 5, 10, dtype=int)\n",
    "times = []\n",
    "\n",
    "for n in N:\n",
    "    tmp1, tmp2 = [],[]\n",
    "    for i in range(5):\n",
    "        state = choice([1, 2, 3])\n",
    "        start = time.time()\n",
    "        mrkt1 = evolveMrkt(state, n)\n",
    "        tmp1 += [time.time()-start]\n",
    "\n",
    "        start = time.time()\n",
    "        mrkt2 = evolveMrkt_fast(state, n)\n",
    "        tmp2 += [time.time()-start]\n",
    "        \n",
    "    times += [[np.mean(tmp1), np.mean(tmp2)]]\n",
    "times = np.array(times)\n",
    "\n",
    "mrkt1 = np.array(mrkt1)\n",
    "mrkt2 = np.array(mrkt2)"
   ]
  },
  {
   "cell_type": "code",
   "execution_count": null,
   "id": "9dd9e5cb",
   "metadata": {},
   "outputs": [],
   "source": [
    "days = np.arange(1,101,1)\n",
    "\n",
    "fig = plt.figure(figsize=(12,5))\n",
    "fig.tight_layout()\n",
    "axs = fig.subplots(2,2, sharex='col', width_ratios=[3,1], gridspec_kw={'hspace':0.1, 'wspace':0})\n",
    "\n",
    "\n",
    "bear = np.where(mrkt1[:days[-1]] == 1)\n",
    "stag = np.where(mrkt1[:days[-1]] == 2)\n",
    "bull = np.where(mrkt1[:days[-1]] == 3)\n",
    "for idxs, marker, color in zip([bear, stag, bull], [11, '_', 10], ['C3', 'gold', 'C2']):\n",
    "    axs[0,0].scatter(days[idxs], mrkt1[idxs], marker=marker, color=color)\n",
    "axs[0,0].set_ylim(0.5, 3.5)\n",
    "axs[0,0].yaxis.set_ticks([1,2,3], ['bear', 'stagnant', 'bull'])\n",
    "\n",
    "axs[0,1].barh(1, bear[0].shape[0]/days[-1], height=0.5, color='C3')\n",
    "axs[0,1].barh(2, stag[0].shape[0]/days[-1], height=0.5, color='gold')\n",
    "axs[0,1].barh(3, bull[0].shape[0]/days[-1], height=0.5, color='C2')\n",
    "axs[0,1].vlines(probs, [0.75, 1.75, 2.75], [1.25, 2.25, 3.25], color='k', linewidth=1)\n",
    "axs[0,1].set_yticks([])\n",
    "\n",
    "bear = np.where(mrkt2[:days[-1]] == 1)\n",
    "stag = np.where(mrkt2[:days[-1]] == 2)\n",
    "bull = np.where(mrkt2[:days[-1]] == 3)\n",
    "for idxs, marker, color in zip([bear, stag, bull], [11, '_', 10], ['C3', 'gold', 'C2']):\n",
    "    axs[1,0].scatter(days[idxs], mrkt2[idxs], marker=marker, color=color)\n",
    "axs[1,0].set_ylim(0.5, 3.5)\n",
    "axs[1,0].yaxis.set_ticks([1,2,3], ['bear', 'stagnant', 'bull'])\n",
    "axs[1,0].set_xlabel('days')\n",
    "\n",
    "axs[1,1].barh(1, bear[0].shape[0]/days[-1], height=0.5, color='C3')\n",
    "axs[1,1].barh(2, stag[0].shape[0]/days[-1], height=0.5, color='gold')\n",
    "axs[1,1].barh(3, bull[0].shape[0]/days[-1], height=0.5, color='C2')\n",
    "axs[1,1].vlines(probs, [0.75, 1.75, 2.75], [1.25, 2.25, 3.25], color='k', linewidth=1)\n",
    "axs[1,1].set_yticks([])"
   ]
  },
  {
   "cell_type": "code",
   "execution_count": null,
   "id": "74a80a42",
   "metadata": {},
   "outputs": [],
   "source": [
    "fig = plt.figure(figsize=(8, 6))\n",
    "fig.tight_layout()\n",
    "axs = fig.subplots(2,1, height_ratios=[2,1], sharex=True, gridspec_kw={'hspace':0})\n",
    "\n",
    "axs[0].plot(N, times[:,0], label='pure-pyth')\n",
    "axs[0].plot(N, times[:,1], label='numba')\n",
    "axs[0].set_ylabel('t [s]')\n",
    "axs[0].semilogx()\n",
    "axs[0].semilogy()\n",
    "axs[0].legend()\n",
    "\n",
    "axs[1].plot(N, times[:,0]/times[:,1], color='C3')\n",
    "axs[1].set_xlabel('days')\n",
    "axs[1].set_ylabel(r'$t_{\\rm pyth}/t_{\\rm numba}$')"
   ]
  },
  {
   "cell_type": "markdown",
   "id": "3c974003",
   "metadata": {},
   "source": [
    "### Q2: Consistent Plotting"
   ]
  },
  {
   "cell_type": "markdown",
   "id": "34ab81c6",
   "metadata": {},
   "source": [
    "(This is about python's dectorators)\n",
    "\n",
    "Write a decorator for the plots of all your papers. \n",
    "\n",
    "- Remember a decorator takes a function. \n",
    "- This function in turn should return a matplotlib figure object.\n",
    "- Before the function is called, the decorator should intialize a matplotlib figure with the options that you like the most (fontsize, ticks, etc etc)\n",
    "- After the figure it's done, the decorator should save it to pdf.\n",
    "\n",
    "This is a great hack for your papers! You do this once and for all, and all plots in your paper will be beautifill, all with the same style/fontsize/etc. All you'll need to do is adding `@myplot` to the relevant plotting functions. \n",
    "    \n",
    "The decorator that I use for my papers is available in my python module [skywalker](https://github.com/dgerosa/skywalker).  "
   ]
  },
  {
   "cell_type": "code",
   "execution_count": 8,
   "id": "8513cbb7",
   "metadata": {},
   "outputs": [],
   "source": [
    "def standardPlot(func):\n",
    "    def wrapper():        \n",
    "        plt.rcParams.update({\n",
    "            'figure.figsize': (5, 4),\n",
    "            'text.usetex': True, \n",
    "            'font.family':'Latin Modern Roman',\n",
    "            'axes.labelsize':14,\n",
    "            'legend.fontsize':12,\n",
    "            'xtick.labelsize':13,\n",
    "            'xtick.direction':'out',\n",
    "            'xtick.top':True,\n",
    "            'xtick.minor.visible':True,\n",
    "            'ytick.labelsize':13,\n",
    "            'ytick.direction':'out',\n",
    "            'ytick.right':True,\n",
    "            'ytick.minor.visible':True,\n",
    "            'savefig.dpi': 500,\n",
    "            'savefig.format': 'pdf'\n",
    "        })\n",
    "        \n",
    "        fig, ax = plt.subplots()\n",
    "        result = func(ax=ax)\n",
    "        plt.tight_layout()\n",
    "        # plt.savefig(f\"{func.__name__}.pdf\")\n",
    "        return result\n",
    "    return wrapper"
   ]
  },
  {
   "cell_type": "code",
   "execution_count": null,
   "id": "0f967bd4",
   "metadata": {},
   "outputs": [],
   "source": [
    "plt.rcdefaults()\n",
    "fig = plt.figure(figsize=(5, 4))\n",
    "ax = fig.add_subplot(111)\n",
    "ax.plot(np.arange(0,10,0.1), np.arange(0,10,0.1)**2)\n",
    "ax.set_xlabel('x')\n",
    "ax.set_ylabel('y')"
   ]
  },
  {
   "cell_type": "code",
   "execution_count": null,
   "id": "f31f75f9",
   "metadata": {},
   "outputs": [],
   "source": [
    "@standardPlot\n",
    "def myPlot(ax):\n",
    "    ax.plot(np.arange(0,10,0.1), np.arange(0,10,0.1)**2)\n",
    "    ax.set_xlabel('x')\n",
    "    ax.set_ylabel('y')\n",
    "    \n",
    "myPlot()"
   ]
  },
  {
   "cell_type": "markdown",
   "id": "331b60b2",
   "metadata": {},
   "source": [
    "## L08 - pytest"
   ]
  },
  {
   "cell_type": "markdown",
   "id": "bf128d54",
   "metadata": {},
   "source": [
    "### Q1: I love pip"
   ]
  },
  {
   "cell_type": "markdown",
   "id": "c6dcf6fe",
   "metadata": {},
   "source": [
    "- Take a piece of python code you wrote (for instance pick one of the exercises you've done for this class). \n",
    "- Turn it into a module\n",
    "- Install it locally\n",
    "- Deploy on pypi (only using the test-pypi server!)\n",
    "\n",
    "<div class=\"alert alert-block alert-warning\">\n",
    "<span class=\"fa fa-flash\"></span> VERY IMPORTANT\n",
    "    \n",
    "Both the pypi and test-pypi server are public on the web! Don't compromise your research by putting up something your competitors can use and steal your idea before you've published a paper on it!!! \n",
    "\n",
    "</div>"
   ]
  },
  {
   "cell_type": "code",
   "execution_count": null,
   "id": "72d693f5",
   "metadata": {},
   "outputs": [],
   "source": [
    "#%pip install -i https://test.pypi.org/simple/ tictactoe-2Players\n",
    "import tictactoe_2Players as ttt\n",
    "\n",
    "game = ttt.TicTacToe()\n",
    "game.play()"
   ]
  },
  {
   "cell_type": "markdown",
   "id": "9616c638",
   "metadata": {},
   "source": [
    "### Q4: It's over Anakin, I have the high ground. I hate you! "
   ]
  },
  {
   "cell_type": "markdown",
   "id": "75eba29b",
   "metadata": {},
   "source": [
    "Pick a piece of your code that your really hate.  You hate it because it's soooooo slooooow. \n",
    "- Profile it.\n",
    "- Find the culprit\n",
    "- Rewrite that bottleneck making a better use of numpy arrays, or jitting it with Numba.\n",
    "- Enjoy your faster code\n",
    "\n",
    "**You underestimate my power**."
   ]
  },
  {
   "cell_type": "markdown",
   "id": "643915d1",
   "metadata": {},
   "source": [
    "I tried profiling my piece of code to compute eccentricities fro catastrophe.\\\n",
    "You can find results in ecc_cat.prof"
   ]
  },
  {
   "cell_type": "code",
   "execution_count": null,
   "id": "4978012c",
   "metadata": {},
   "outputs": [],
   "source": [
    "!snakeviz ecc_cat_before.proof"
   ]
  },
  {
   "cell_type": "markdown",
   "id": "9a15038f",
   "metadata": {},
   "source": [
    "VS"
   ]
  },
  {
   "cell_type": "code",
   "execution_count": null,
   "id": "a08f4460",
   "metadata": {},
   "outputs": [],
   "source": [
    "!snakeviz ecc_cat_after.proof"
   ]
  }
 ],
 "metadata": {
  "kernelspec": {
   "display_name": "pythonenv",
   "language": "python",
   "name": "python3"
  },
  "language_info": {
   "codemirror_mode": {
    "name": "ipython",
    "version": 3
   },
   "file_extension": ".py",
   "mimetype": "text/x-python",
   "name": "python",
   "nbconvert_exporter": "python",
   "pygments_lexer": "ipython3",
   "version": "3.11.5"
  }
 },
 "nbformat": 4,
 "nbformat_minor": 5
}
