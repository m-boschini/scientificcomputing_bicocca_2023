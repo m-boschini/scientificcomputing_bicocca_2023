{
 "cells": [
  {
   "cell_type": "code",
   "execution_count": 1,
   "id": "78557e9b-59d6-4aa2-a9e0-f793f04e6009",
   "metadata": {},
   "outputs": [],
   "source": [
    "import numpy as np\n",
    "import matplotlib.pyplot as plt\n",
    "from tqdm.notebook import tqdm"
   ]
  },
  {
   "cell_type": "markdown",
   "id": "1f0460fd-df79-4379-a6a3-b576b32eaf75",
   "metadata": {
    "jp-MarkdownHeadingCollapsed": true
   },
   "source": [
    "## Q1: Don't type"
   ]
  },
  {
   "cell_type": "markdown",
   "id": "9ea94b56-2310-4977-8537-686fb7b3049b",
   "metadata": {},
   "source": [
    "Create the array: \n",
    "```\n",
    "[[1,  6, 11],\n",
    " [2,  7, 12],\n",
    " [3,  8, 13],\n",
    " [4,  9, 14],\n",
    " [5, 10, 15]]\n",
    "```\n",
    "with out explicitly typing it in."
   ]
  },
  {
   "cell_type": "code",
   "execution_count": 2,
   "id": "6389309c-365f-4791-979e-239336655d3c",
   "metadata": {},
   "outputs": [
    {
     "name": "stdout",
     "output_type": "stream",
     "text": [
      "[[ 1  6 11]\n",
      " [ 2  7 12]\n",
      " [ 3  8 13]\n",
      " [ 4  9 14]\n",
      " [ 5 10 15]]\n"
     ]
    }
   ],
   "source": [
    "a = np.arange(1,16).reshape(3,5).T\n",
    "print(a)"
   ]
  },
  {
   "cell_type": "markdown",
   "id": "06572aa4-5419-4749-8dda-80ed2369f6b5",
   "metadata": {},
   "source": [
    "Now create a new array containing only its 2nd and 4th rows."
   ]
  },
  {
   "cell_type": "code",
   "execution_count": 3,
   "id": "1bfa6a8b-3554-4267-bbd2-d3378d92ed42",
   "metadata": {},
   "outputs": [
    {
     "name": "stdout",
     "output_type": "stream",
     "text": [
      "[[ 2  7 12]\n",
      " [ 4  9 14]]\n"
     ]
    }
   ],
   "source": [
    "b = a[[1,3],:]\n",
    "print(b)"
   ]
  },
  {
   "cell_type": "markdown",
   "id": "bd389c25-53b1-466b-9ec7-a04981e82f28",
   "metadata": {},
   "source": [
    "Create a 2d array with `1` on the border and `0` on the inside, e.g., like:\n",
    "```\n",
    "1 1 1 1 1\n",
    "1 0 0 0 1\n",
    "1 0 0 0 1\n",
    "1 1 1 1 1\n",
    "```\n",
    "\n",
    "Do this using array slice notation to let it work for an arbitrary-sized array"
   ]
  },
  {
   "cell_type": "code",
   "execution_count": 5,
   "id": "b38241b9-63d1-45a1-b68f-b49d30374722",
   "metadata": {},
   "outputs": [
    {
     "name": "stdout",
     "output_type": "stream",
     "text": [
      "[[1 1 1 1 1]\n",
      " [1 0 0 0 1]\n",
      " [1 0 0 0 1]\n",
      " [1 0 0 0 1]\n",
      " [1 0 0 0 1]\n",
      " [1 0 0 0 1]\n",
      " [1 1 1 1 1]]\n"
     ]
    }
   ],
   "source": [
    "n = 7\n",
    "m = 5\n",
    "\n",
    "a = np.zeros((n,m), dtype=int)\n",
    "a[[0,-1],:] = 1\n",
    "a[:,[0,-1]] = 1\n",
    "print(a)"
   ]
  },
  {
   "cell_type": "markdown",
   "id": "5287b9b5-3f16-4cf5-bd70-f3ee253d4f9b",
   "metadata": {
    "jp-MarkdownHeadingCollapsed": true
   },
   "source": [
    "## Q2: Histrograms"
   ]
  },
  {
   "cell_type": "markdown",
   "id": "f9d56026-03d4-4133-ba8d-552bf7b0ad52",
   "metadata": {},
   "source": [
    "Here we will read in columns of numbers from a file and create a histogram, using NumPy routines.  Make sure you have the data file\n",
    "\"`sample.txt`\" in the same directory as this notebook. You download it from  https://raw.githubusercontent.com/sbu-python-summer/python-tutorial/master/day-3/sample.txt (and use python to download a file!)\n",
    "\n",
    "  * Use `np.loadtxt()` to read this file in.  \n",
    "\n",
    "  * Next, use `np.histogram()` to create a histogram array.  The output returns both the count and an array of edges.\n",
    "  \n",
    "  * Finally, loop over the bins and print out the bin center (averaging the left and right edges of the bin) and the count for that bin."
   ]
  },
  {
   "cell_type": "code",
   "execution_count": 2,
   "id": "6151bf96-0e9e-4a52-9951-4f7eda9e3824",
   "metadata": {},
   "outputs": [
    {
     "name": "stdout",
     "output_type": "stream",
     "text": [
      "100% [................................................................................] 2183 / 2183"
     ]
    },
    {
     "data": {
      "text/plain": [
       "'sample (1).txt'"
      ]
     },
     "execution_count": 2,
     "metadata": {},
     "output_type": "execute_result"
    }
   ],
   "source": [
    "import wget\n",
    "\n",
    "url = 'https://raw.githubusercontent.com/sbu-python-summer/python-tutorial/master/day-3/sample.txt'\n",
    "wget.download(url)"
   ]
  },
  {
   "cell_type": "code",
   "execution_count": 5,
   "id": "44e3ce0b-033a-40ed-8e71-9333b2f3bac3",
   "metadata": {},
   "outputs": [
    {
     "name": "stdout",
     "output_type": "stream",
     "text": [
      "(100, 2)\n",
      "[-30.59  -23.67], center = -27.13, count = 3\n",
      "[-23.67  -16.75], center = -20.21, count = 4\n",
      "[-16.75  -9.83], center = -13.29, count = 9\n",
      "[-9.83  -2.92], center = -6.37, count = 22\n",
      "[-2.92  4.00], center = 0.54, count = 22\n",
      "[4.00  10.92], center = 7.46, count = 22\n",
      "[10.92  17.84], center = 14.38, count = 9\n",
      "[17.84  24.76], center = 21.30, count = 7\n",
      "[24.76  31.68], center = 28.22, count = 1\n",
      "[31.68  38.59], center = 35.14, count = 1\n"
     ]
    }
   ],
   "source": [
    "data = np.loadtxt('sample.txt')\n",
    "print(data.shape)\n",
    "\n",
    "count, bins = np.histogram(data[:,1])\n",
    "bins_center = (bins[1:]+bins[:-1])/2\n",
    "for i in range(bins.shape[0]-1):\n",
    "    print(f'[{bins[i]:.2f}  {bins[i+1]:.2f}], center = {bins_center[i]:.2f}, count = {count[i]}')"
   ]
  },
  {
   "cell_type": "markdown",
   "id": "23611d16-2537-4003-94c3-ae9f367da532",
   "metadata": {
    "jp-MarkdownHeadingCollapsed": true
   },
   "source": [
    "## Q3: Are you faster than numpy?"
   ]
  },
  {
   "cell_type": "markdown",
   "id": "6c2f8b39-78d0-4a3a-bd16-6de709ebd5f6",
   "metadata": {},
   "source": [
    "Numpy of course has a standard deviation function, `np.std()`, but here we'll write our own that works on a 1-d array (vector).  The standard\n",
    "deviation is a measure of the \"width\" of the distribution of numbers\n",
    "in the vector.\n",
    "\n",
    "Given an array, $a$, and an average $\\bar{a}$, the standard deviation\n",
    "is:\n",
    "$$\n",
    "\\sigma = \\left [ \\frac{1}{N} \\sum_{i=1}^N (a_i - \\bar{a})^2 \\right ]^{1/2}\n",
    "$$\n",
    "\n",
    "Write a function to calculate the standard deviation for an input array, `a`:\n",
    "\n",
    "  * First compute the average of the elements in `a` to define $\\bar{a}$\n",
    "  * Next compute the sum over the squares of $a - \\bar{a}$\n",
    "  * Then divide the sum by the number of elements in the array\n",
    "  * Finally take the square root (you can use `np.sqrt()`)\n",
    "  \n",
    "Test your function on a random array, and compare to the built-in `np.std()`. Check the runtime as well."
   ]
  },
  {
   "cell_type": "code",
   "execution_count": 6,
   "id": "5e2bbd3c-0980-4c47-a2c1-04db9912e695",
   "metadata": {},
   "outputs": [],
   "source": [
    "def mean(a):\n",
    "    sum = 0\n",
    "    for el in a:\n",
    "        sum += el\n",
    "    return sum/a.shape[0]\n",
    "\n",
    "def std(a):\n",
    "    a_mean = mean(a)\n",
    "    sq_sum = 0\n",
    "    for el in a:\n",
    "        sq_sum += (el-a_mean)**2\n",
    "    return (sq_sum/a.shape[0])**(1/2)"
   ]
  },
  {
   "cell_type": "code",
   "execution_count": 11,
   "id": "6d1ef643-bdd1-4547-9b44-5b5227d8005f",
   "metadata": {},
   "outputs": [
    {
     "data": {
      "application/vnd.jupyter.widget-view+json": {
       "model_id": "b10dd3bd6d594b50971373f72241a73a",
       "version_major": 2,
       "version_minor": 0
      },
      "text/plain": [
       "  0%|          | 0/20 [00:00<?, ?it/s]"
      ]
     },
     "metadata": {},
     "output_type": "display_data"
    }
   ],
   "source": [
    "import time\n",
    "\n",
    "n_points = np.logspace(1, 8, 20, dtype=int)\n",
    "trials = 20\n",
    "time_matteo, time_numpy = [], []\n",
    "for n in tqdm(n_points):\n",
    "    tmp_matteo, tmp_numpy = [], []\n",
    "    for i in range(trials):\n",
    "        t = np.random.random(n)\n",
    "        \n",
    "        start = time.time()\n",
    "        #std_matteo = std(t)\n",
    "        std(t)\n",
    "        tmp_matteo += [time.time()-start]\n",
    "        \n",
    "        start = time.time()\n",
    "        #std_numpy = np.std(t)\n",
    "        np.std(t)\n",
    "        tmp_numpy += [time.time()-start]\n",
    "    time_matteo += [np.mean(tmp_matteo)]\n",
    "    time_numpy += [np.mean(tmp_numpy)]"
   ]
  },
  {
   "cell_type": "code",
   "execution_count": 12,
   "id": "004a7e16-d6cc-4af5-b2b3-be741af357c0",
   "metadata": {},
   "outputs": [
    {
     "data": {
      "text/plain": [
       "<matplotlib.legend.Legend at 0x106db59d0>"
      ]
     },
     "execution_count": 12,
     "metadata": {},
     "output_type": "execute_result"
    },
    {
     "data": {
      "image/png": "[encoded data removed]",
      "text/plain": [
       "<Figure size 640x480 with 1 Axes>"
      ]
     },
     "metadata": {},
     "output_type": "display_data"
    }
   ],
   "source": [
    "fig = plt.figure()\n",
    "ax = fig.add_subplot(111)\n",
    "ax.plot(n_points, time_matteo, label='Matteo')\n",
    "ax.plot(n_points, time_numpy, label='Numpy')\n",
    "ax.set_xlabel('n points')\n",
    "ax.set_ylabel('t [s]')\n",
    "ax.semilogx()\n",
    "ax.semilogy()\n",
    "plt.legend()"
   ]
  },
  {
   "cell_type": "markdown",
   "id": "14cf5a69-9788-4275-b797-70ffba9081f9",
   "metadata": {
    "jp-MarkdownHeadingCollapsed": true
   },
   "source": [
    "## Q4: Bootstraps"
   ]
  },
  {
   "cell_type": "markdown",
   "id": "3352638d-603b-4f6e-aa09-e96fc3192e70",
   "metadata": {},
   "source": [
    "Boostrapping is a prominent statistical tecnique to estimate errors when you're stuck and don't know what else to do: https://erikjanvankesteren.nl/blog/2018-03-01-baron-bootstrap.html\n",
    "\n",
    "Generate a 1D array (say from a Gaussian, but then add some outliers for fun). Compute the bootstrapped 95% confidence intervals for the mean of that array (i.e., resample the elements of an array with replacement N times, compute the mean of each sample, and then compute percentiles over the means). "
   ]
  },
  {
   "cell_type": "code",
   "execution_count": 13,
   "id": "4b8082b6-62c2-495b-99b9-51b6c017175d",
   "metadata": {},
   "outputs": [],
   "source": [
    "from scipy.stats import powerlaw"
   ]
  },
  {
   "cell_type": "code",
   "execution_count": 61,
   "id": "bf72b227-3d96-439e-9424-0f679e6ece34",
   "metadata": {},
   "outputs": [],
   "source": [
    "outliers = np.concatenate((powerlaw.rvs(2, loc=0, scale=5, size=5000), np.random.uniform(low=-5, high=5, size=12000)))\n",
    "pop = np.concatenate((np.random.normal(loc=0, scale=1, size=100000), outliers))\n",
    "np.random.shuffle(pop)"
   ]
  },
  {
   "cell_type": "code",
   "execution_count": 62,
   "id": "74c2b3a6-360e-4aef-91dd-7a2ec28812ae",
   "metadata": {},
   "outputs": [
    {
     "data": {
      "text/plain": [
       "<matplotlib.legend.Legend at 0x17a367dd0>"
      ]
     },
     "execution_count": 62,
     "metadata": {},
     "output_type": "execute_result"
    },
    {
     "data": {
      "image/png": "[encoded data removed]",
      "text/plain": [
       "<Figure size 640x480 with 1 Axes>"
      ]
     },
     "metadata": {},
     "output_type": "display_data"
    }
   ],
   "source": [
    "fig = plt.figure()\n",
    "ax = fig.add_subplot(111)\n",
    "counts, bins, patches  = ax.hist(pop, bins=30, histtype='step')\n",
    "ax.vlines(np.mean(pop), 0, np.max(counts), color='C1', label=f'{np.mean(pop):.3f} [{np.percentile(pop, 2.5):.3f}, {np.percentile(pop, 97.5):.3f}]')\n",
    "ax.vlines(np.percentile(pop, 2.5), 0, np.max(counts), color='C1', linestyle='--')\n",
    "ax.vlines(np.percentile(pop, 97.5), 0, np.max(counts), color='C1', linestyle='--')\n",
    "ax.set_xlim(-5,5)\n",
    "plt.legend()"
   ]
  },
  {
   "cell_type": "code",
   "execution_count": 65,
   "id": "73033bbf-176f-41e6-8fa2-3b1fd09d358b",
   "metadata": {},
   "outputs": [],
   "source": [
    "n_samples = np.logspace(1, 3, 3, dtype=int)\n",
    "n_times = 10000\n",
    "btsp = np.zeros((n_samples.shape[0], 3, n_times))\n",
    "for i, n in enumerate(n_samples):\n",
    "    resampled_mean = []\n",
    "    resampled_0025 = []\n",
    "    resampled_0975 = []\n",
    "    for j in range(n_times):\n",
    "        sample = np.random.choice(pop, n)\n",
    "        resampled_mean += [np.mean(sample)]\n",
    "        resampled_0025 += [np.percentile(sample, 2.5)]\n",
    "        resampled_0975 += [np.percentile(sample, 97.5)]\n",
    "    btsp[i] = np.stack((resampled_mean, resampled_0025, resampled_0975), axis=0)"
   ]
  },
  {
   "cell_type": "code",
   "execution_count": 66,
   "id": "b2021ae2-e822-4c38-9065-eb060e853cbf",
   "metadata": {},
   "outputs": [
    {
     "data": {
      "text/plain": [
       "Text(0, 0.5, 'mean')"
      ]
     },
     "execution_count": 66,
     "metadata": {},
     "output_type": "execute_result"
    },
    {
     "data": {
      "image/png": "[encoded data removed]",
      "text/plain": [
       "<Figure size 640x480 with 1 Axes>"
      ]
     },
     "metadata": {},
     "output_type": "display_data"
    }
   ],
   "source": [
    "fig = plt.figure()\n",
    "ax = fig.add_subplot(111)\n",
    "\n",
    "ax.hlines(np.mean(pop), 0, n_samples.shape[0]+2, color='k', linestyle='--')\n",
    "ax.errorbar(1, np.mean(pop), yerr=[[np.abs(np.percentile(pop,2.5))], \\\n",
    "                                   [np.abs(np.percentile(pop,97.5))]], c='r', \\\n",
    "            marker='x', markersize=10, capsize=5)\n",
    "for i, alpha in enumerate(np.linspace(0.2,1,n_samples.shape[0])):\n",
    "    ax.errorbar(2+i, np.mean(btsp[i,0,:]), yerr=[[np.abs(np.mean(btsp[i,1,:]))], [np.abs(np.mean(btsp[i,2,:]))]], c='C2', \\\n",
    "                alpha=alpha, marker='x', markersize=10, capsize=5)\n",
    "\n",
    "ax.set_xticks(np.arange(0,n_samples.shape[0]+3), labels=[None]+['pop']+[f'{n_samples[i]}' for i in range(n_samples.shape[0])]+[None])\n",
    "ax.set_ylabel('mean')"
   ]
  },
  {
   "cell_type": "code",
   "execution_count": 83,
   "id": "8b783f08-6850-4b29-98cc-175b49b3b773",
   "metadata": {},
   "outputs": [
    {
     "data": {
      "image/png": "[encoded data removed]",
      "text/plain": [
       "<Figure size 1200x400 with 3 Axes>"
      ]
     },
     "metadata": {},
     "output_type": "display_data"
    }
   ],
   "source": [
    "fig = plt.figure(figsize=(12, 4))\n",
    "axs = fig.subplots(1,3)\n",
    "pop_values = [np.mean(pop), np.percentile(pop, 2.5), np.percentile(pop, 97.5)]\n",
    "titles = ['Mean', r'$P_{2.5}$', r'$P_{97.5}$']\n",
    "\n",
    "for j in range(3):\n",
    "    for i, samples in enumerate(btsp):\n",
    "        axs[j].hist(samples[j,:], histtype='step', color=f'C{i}')\n",
    "        axs[j].hist(samples[j,:], alpha=0.3, color=f'C{i}')\n",
    "    axs[j].vlines(pop_values[j], 0, axs[j].get_ylim()[1], color='r')\n",
    "    axs[j].set_title(titles[j])"
   ]
  },
  {
   "cell_type": "markdown",
   "id": "b6f8d157-7d3c-4630-8957-363770060cfb",
   "metadata": {},
   "source": [
    "## Q5: Einstein summation"
   ]
  },
  {
   "cell_type": "markdown",
   "id": "f8ab3140-8260-4869-88bf-b67da973a137",
   "metadata": {},
   "source": [
    "einsum is a powerful (but often painful) numpy thing:\n",
    "- https://numpy.org/doc/stable/reference/generated/numpy.einsum.html\n",
    "- https://stackoverflow.com/questions/26089893/understanding-numpys-einsum\n",
    "\n",
    "Take 2 vectors A and B. Write the einsum equivalent of inner, outer, sum, and mul function."
   ]
  },
  {
   "cell_type": "code",
   "execution_count": 17,
   "id": "733f882c-8e3e-4a96-b3f2-dad632e0f4ee",
   "metadata": {},
   "outputs": [
    {
     "name": "stdout",
     "output_type": "stream",
     "text": [
      "Inner product\n",
      "eisum: 0.9458209651914812\n",
      "standard: 0.9458209651914812\n",
      "\n",
      "Outer product\n",
      "eisum:\n",
      " [[0.04309943 0.08078272 0.12879609]\n",
      " [0.224453   0.4206998  0.67074357]\n",
      " [0.16130042 0.30233081 0.48202173]]\n",
      "standard:\n",
      " [[0.04309943 0.08078272 0.12879609]\n",
      " [0.224453   0.4206998  0.67074357]\n",
      " [0.16130042 0.30233081 0.48202173]]\n",
      "\n",
      "Sum\n",
      "eisum: 1.7146677778059112\n",
      "standard: 1.7146677778059112\n",
      "\n",
      "Mul (equivalent to np.inner if a, b are 1D vectors)\n",
      "eisum: 0.9458209651914812\n",
      "standard: 0.9458209651914812\n"
     ]
    }
   ],
   "source": [
    "a = np.random.random(3)\n",
    "b = np.random.random(3)\n",
    "\n",
    "print('Inner product')\n",
    "print(f\"eisum: {np.einsum('i,i -> ', a, b)}\")\n",
    "print(f'standard: {np.inner(a, b)}')\n",
    "print()\n",
    "print('Outer product')\n",
    "print(f\"eisum:\\n {np.einsum('i,j -> ij', a, b)}\")\n",
    "print(f'standard:\\n {np.outer(a,b)}')\n",
    "print()\n",
    "print('Sum')\n",
    "print(f\"eisum: {np.einsum('i -> ', a)}\")\n",
    "print(f'standard: {np.sum(a)}')\n",
    "print()\n",
    "print('Mul (equivalent to np.inner if a, b are 1D vectors)')\n",
    "print(f\"eisum: {np.einsum('i,i -> ', a, b)}\")\n",
    "print(f'standard: {np.matmul(a, b)}')"
   ]
  },
  {
   "cell_type": "markdown",
   "id": "fc4f1b60-1425-4d03-a377-bdedd2722778",
   "metadata": {},
   "source": [
    "## Q6: Conway's Game of Life"
   ]
  },
  {
   "cell_type": "markdown",
   "id": "69b40120-81f4-44b5-ae52-5268252bdcbb",
   "metadata": {},
   "source": [
    "**Exercise**: Code up Conway's Game of Life using numpy \n",
    "\n",
    "The Game of Life is a cellular automaton devised by mathematician John Horton Conway in 1970. It is a zero-player game, meaning that its evolution is determined by its initial state, requiring no further input. One interacts with the Game of Life by creating an initial configuration and observing how it evolves. It is Turing complete and can simulate a universal constructor or any other Turing machine.\n",
    "\n",
    "https://en.wikipedia.org/wiki/Conway%27s_Game_of_Life\n",
    "\n",
    "The Game of Life is *really* (really, really) cool. There are just four extremely simple rules, and these result in an immense richness of behaviour and complexity.\n",
    "\n",
    "https://www.youtube.com/watch?v=C2vgICfQawE&t=221s&ab_channel=RationalAnimations\n",
    "\n",
    "https://www.youtube.com/watch?v=jvSp6VHt_Pc&ab_channel=TheDevDoctor\n",
    "\n",
    "Here some web apps to play:\n",
    "\n",
    "https://conwaylife.com/\n",
    "\n",
    "https://playgameoflife.com/\n",
    "\n",
    "Some computational hints:\n",
    "\n",
    "https://blog.datawrapper.de/game-of-life/\n",
    "\n",
    "For instance, here is a Game-of-Life structure that sends a message at fixed intervals (that little spaceship leaving toward the bottom right)\n",
    "\n",
    "![](https://blog.datawrapper.de/wp-content/uploads/2021/06/game-of-life-loop-cropped.gif)\n"
   ]
  }
 ],
 "metadata": {
  "kernelspec": {
   "display_name": "Python 3 (ipykernel)",
   "language": "python",
   "name": "python3"
  },
  "language_info": {
   "codemirror_mode": {
    "name": "ipython",
    "version": 3
   },
   "file_extension": ".py",
   "mimetype": "text/x-python",
   "name": "python",
   "nbconvert_exporter": "python",
   "pygments_lexer": "ipython3",
   "version": "3.11.5"
  }
 },
 "nbformat": 4,
 "nbformat_minor": 5
}
